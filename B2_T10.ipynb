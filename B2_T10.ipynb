{
  "nbformat": 4,
  "nbformat_minor": 0,
  "metadata": {
    "colab": {
      "name": "B2_T10.ipynb",
      "provenance": [],
      "collapsed_sections": [],
      "include_colab_link": true
    },
    "kernelspec": {
      "name": "python3",
      "display_name": "Python 3"
    },
    "language_info": {
      "name": "python"
    }
  },
  "cells": [
    {
      "cell_type": "markdown",
      "metadata": {
        "id": "view-in-github",
        "colab_type": "text"
      },
      "source": [
        "<a href=\"https://colab.research.google.com/github/jeffin95/jeffin95/blob/main/B2_T10.ipynb\" target=\"_parent\"><img src=\"https://colab.research.google.com/assets/colab-badge.svg\" alt=\"Open In Colab\"/></a>"
      ]
    },
    {
      "cell_type": "code",
      "execution_count": null,
      "metadata": {
        "id": "5DzIg6Hg8L-p"
      },
      "outputs": [],
      "source": [
        "import pandas as pd\n",
        "import numpy as np\n",
        "import matplotlib.pyplot as plt\n",
        "import seaborn as sns"
      ]
    },
    {
      "cell_type": "markdown",
      "source": [
        "Import Dataset"
      ],
      "metadata": {
        "id": "HK32OImURCC_"
      }
    },
    {
      "cell_type": "code",
      "source": [
        "nd = pd.read_csv('us_disaster_declarations_1 (1).csv')"
      ],
      "metadata": {
        "id": "-DpflnOGNU6g"
      },
      "execution_count": null,
      "outputs": []
    },
    {
      "cell_type": "code",
      "source": [
        "nd.head()"
      ],
      "metadata": {
        "id": "EzSjmICgPM4L",
        "colab": {
          "base_uri": "https://localhost:8080/",
          "height": 386
        },
        "outputId": "65bf5c4e-2252-4344-d90a-c07ccaccc192"
      },
      "execution_count": null,
      "outputs": [
        {
          "output_type": "execute_result",
          "data": {
            "text/plain": [
              "  fema_declaration_string  disaster_number state declaration_type  \\\n",
              "0              EM-3541-AR             3541    AR               EM   \n",
              "1              EM-3541-AR             3541    AR               EM   \n",
              "2              EM-3541-AR             3541    AR               EM   \n",
              "3              EM-3541-AR             3541    AR               EM   \n",
              "4              EM-3541-AR             3541    AR               EM   \n",
              "\n",
              "       declaration_date  fy_declared incident_type declaration_title  \\\n",
              "0  2020-08-27T09:00:00Z         2020     Hurricane   Hurricane Laura   \n",
              "1  2020-08-27T09:00:00Z         2020     Hurricane   Hurricane Laura   \n",
              "2  2020-08-27T09:00:00Z         2020     Hurricane   Hurricane Laura   \n",
              "3  2020-08-27T09:00:00Z         2020     Hurricane   Hurricane Laura   \n",
              "4  2020-08-27T09:00:00Z         2020     Hurricane   Hurricane Laura   \n",
              "\n",
              "   ih_program_declared  ia_program_declared  ...     incident_end_date  \\\n",
              "0                    0                    0  ...  2020-08-28T23:00:00Z   \n",
              "1                    0                    0  ...  2020-08-28T23:00:00Z   \n",
              "2                    0                    0  ...  2020-08-28T23:00:00Z   \n",
              "3                    0                    0  ...  2020-08-28T23:00:00Z   \n",
              "4                    0                    0  ...  2020-08-28T23:00:00Z   \n",
              "\n",
              "   disaster_closeout_date  fips place_code      designated_area  \\\n",
              "0    2021-05-24T23:59:00Z  5131      99131   Sebastian (County)   \n",
              "1    2021-05-24T23:59:00Z  5143      99143  Washington (County)   \n",
              "2    2021-05-24T23:59:00Z  5079      99079     Lincoln (County)   \n",
              "3    2021-05-24T23:59:00Z  5073      99073   Lafayette (County)   \n",
              "4    2021-05-24T23:59:00Z  5087      99087     Madison (County)   \n",
              "\n",
              "   declaration_request_number  last_ia_filing_date  \\\n",
              "0                       20250                  NaN   \n",
              "1                       20250                  NaN   \n",
              "2                       20250                  NaN   \n",
              "3                       20250                  NaN   \n",
              "4                       20250                  NaN   \n",
              "\n",
              "                                       hash          last_refresh  \\\n",
              "0  faf01c718335e81b32ad4e24273fb64809c3448a  2022-04-26T19:01:44Z   \n",
              "1  f67274aed9f248a7c3a201a928221b9d26e8feef  2022-04-26T19:01:44Z   \n",
              "2  e5f25604660ea286f771c6845e0152e646398dbb  2022-04-26T19:01:44Z   \n",
              "3  2a012081fac9add3af85127bbc8bc0f68b355718  2022-04-26T19:01:44Z   \n",
              "4  7b0381cd5b6489d2daef14dcdff267ef3343f7c4  2022-04-26T19:01:44Z   \n",
              "\n",
              "                         id  \n",
              "0  60c3b861a0ee349d710ade97  \n",
              "1  60c3b861a0ee349d710adebf  \n",
              "2  60c3b861a0ee349d710addf6  \n",
              "3  60c3b861a0ee349d710addfa  \n",
              "4  60c3b861a0ee349d710ade1d  \n",
              "\n",
              "[5 rows x 23 columns]"
            ],
            "text/html": [
              "\n",
              "  <div id=\"df-14326087-cbcc-4249-99fa-451ab52ddd28\">\n",
              "    <div class=\"colab-df-container\">\n",
              "      <div>\n",
              "<style scoped>\n",
              "    .dataframe tbody tr th:only-of-type {\n",
              "        vertical-align: middle;\n",
              "    }\n",
              "\n",
              "    .dataframe tbody tr th {\n",
              "        vertical-align: top;\n",
              "    }\n",
              "\n",
              "    .dataframe thead th {\n",
              "        text-align: right;\n",
              "    }\n",
              "</style>\n",
              "<table border=\"1\" class=\"dataframe\">\n",
              "  <thead>\n",
              "    <tr style=\"text-align: right;\">\n",
              "      <th></th>\n",
              "      <th>fema_declaration_string</th>\n",
              "      <th>disaster_number</th>\n",
              "      <th>state</th>\n",
              "      <th>declaration_type</th>\n",
              "      <th>declaration_date</th>\n",
              "      <th>fy_declared</th>\n",
              "      <th>incident_type</th>\n",
              "      <th>declaration_title</th>\n",
              "      <th>ih_program_declared</th>\n",
              "      <th>ia_program_declared</th>\n",
              "      <th>...</th>\n",
              "      <th>incident_end_date</th>\n",
              "      <th>disaster_closeout_date</th>\n",
              "      <th>fips</th>\n",
              "      <th>place_code</th>\n",
              "      <th>designated_area</th>\n",
              "      <th>declaration_request_number</th>\n",
              "      <th>last_ia_filing_date</th>\n",
              "      <th>hash</th>\n",
              "      <th>last_refresh</th>\n",
              "      <th>id</th>\n",
              "    </tr>\n",
              "  </thead>\n",
              "  <tbody>\n",
              "    <tr>\n",
              "      <th>0</th>\n",
              "      <td>EM-3541-AR</td>\n",
              "      <td>3541</td>\n",
              "      <td>AR</td>\n",
              "      <td>EM</td>\n",
              "      <td>2020-08-27T09:00:00Z</td>\n",
              "      <td>2020</td>\n",
              "      <td>Hurricane</td>\n",
              "      <td>Hurricane Laura</td>\n",
              "      <td>0</td>\n",
              "      <td>0</td>\n",
              "      <td>...</td>\n",
              "      <td>2020-08-28T23:00:00Z</td>\n",
              "      <td>2021-05-24T23:59:00Z</td>\n",
              "      <td>5131</td>\n",
              "      <td>99131</td>\n",
              "      <td>Sebastian (County)</td>\n",
              "      <td>20250</td>\n",
              "      <td>NaN</td>\n",
              "      <td>faf01c718335e81b32ad4e24273fb64809c3448a</td>\n",
              "      <td>2022-04-26T19:01:44Z</td>\n",
              "      <td>60c3b861a0ee349d710ade97</td>\n",
              "    </tr>\n",
              "    <tr>\n",
              "      <th>1</th>\n",
              "      <td>EM-3541-AR</td>\n",
              "      <td>3541</td>\n",
              "      <td>AR</td>\n",
              "      <td>EM</td>\n",
              "      <td>2020-08-27T09:00:00Z</td>\n",
              "      <td>2020</td>\n",
              "      <td>Hurricane</td>\n",
              "      <td>Hurricane Laura</td>\n",
              "      <td>0</td>\n",
              "      <td>0</td>\n",
              "      <td>...</td>\n",
              "      <td>2020-08-28T23:00:00Z</td>\n",
              "      <td>2021-05-24T23:59:00Z</td>\n",
              "      <td>5143</td>\n",
              "      <td>99143</td>\n",
              "      <td>Washington (County)</td>\n",
              "      <td>20250</td>\n",
              "      <td>NaN</td>\n",
              "      <td>f67274aed9f248a7c3a201a928221b9d26e8feef</td>\n",
              "      <td>2022-04-26T19:01:44Z</td>\n",
              "      <td>60c3b861a0ee349d710adebf</td>\n",
              "    </tr>\n",
              "    <tr>\n",
              "      <th>2</th>\n",
              "      <td>EM-3541-AR</td>\n",
              "      <td>3541</td>\n",
              "      <td>AR</td>\n",
              "      <td>EM</td>\n",
              "      <td>2020-08-27T09:00:00Z</td>\n",
              "      <td>2020</td>\n",
              "      <td>Hurricane</td>\n",
              "      <td>Hurricane Laura</td>\n",
              "      <td>0</td>\n",
              "      <td>0</td>\n",
              "      <td>...</td>\n",
              "      <td>2020-08-28T23:00:00Z</td>\n",
              "      <td>2021-05-24T23:59:00Z</td>\n",
              "      <td>5079</td>\n",
              "      <td>99079</td>\n",
              "      <td>Lincoln (County)</td>\n",
              "      <td>20250</td>\n",
              "      <td>NaN</td>\n",
              "      <td>e5f25604660ea286f771c6845e0152e646398dbb</td>\n",
              "      <td>2022-04-26T19:01:44Z</td>\n",
              "      <td>60c3b861a0ee349d710addf6</td>\n",
              "    </tr>\n",
              "    <tr>\n",
              "      <th>3</th>\n",
              "      <td>EM-3541-AR</td>\n",
              "      <td>3541</td>\n",
              "      <td>AR</td>\n",
              "      <td>EM</td>\n",
              "      <td>2020-08-27T09:00:00Z</td>\n",
              "      <td>2020</td>\n",
              "      <td>Hurricane</td>\n",
              "      <td>Hurricane Laura</td>\n",
              "      <td>0</td>\n",
              "      <td>0</td>\n",
              "      <td>...</td>\n",
              "      <td>2020-08-28T23:00:00Z</td>\n",
              "      <td>2021-05-24T23:59:00Z</td>\n",
              "      <td>5073</td>\n",
              "      <td>99073</td>\n",
              "      <td>Lafayette (County)</td>\n",
              "      <td>20250</td>\n",
              "      <td>NaN</td>\n",
              "      <td>2a012081fac9add3af85127bbc8bc0f68b355718</td>\n",
              "      <td>2022-04-26T19:01:44Z</td>\n",
              "      <td>60c3b861a0ee349d710addfa</td>\n",
              "    </tr>\n",
              "    <tr>\n",
              "      <th>4</th>\n",
              "      <td>EM-3541-AR</td>\n",
              "      <td>3541</td>\n",
              "      <td>AR</td>\n",
              "      <td>EM</td>\n",
              "      <td>2020-08-27T09:00:00Z</td>\n",
              "      <td>2020</td>\n",
              "      <td>Hurricane</td>\n",
              "      <td>Hurricane Laura</td>\n",
              "      <td>0</td>\n",
              "      <td>0</td>\n",
              "      <td>...</td>\n",
              "      <td>2020-08-28T23:00:00Z</td>\n",
              "      <td>2021-05-24T23:59:00Z</td>\n",
              "      <td>5087</td>\n",
              "      <td>99087</td>\n",
              "      <td>Madison (County)</td>\n",
              "      <td>20250</td>\n",
              "      <td>NaN</td>\n",
              "      <td>7b0381cd5b6489d2daef14dcdff267ef3343f7c4</td>\n",
              "      <td>2022-04-26T19:01:44Z</td>\n",
              "      <td>60c3b861a0ee349d710ade1d</td>\n",
              "    </tr>\n",
              "  </tbody>\n",
              "</table>\n",
              "<p>5 rows × 23 columns</p>\n",
              "</div>\n",
              "      <button class=\"colab-df-convert\" onclick=\"convertToInteractive('df-14326087-cbcc-4249-99fa-451ab52ddd28')\"\n",
              "              title=\"Convert this dataframe to an interactive table.\"\n",
              "              style=\"display:none;\">\n",
              "        \n",
              "  <svg xmlns=\"http://www.w3.org/2000/svg\" height=\"24px\"viewBox=\"0 0 24 24\"\n",
              "       width=\"24px\">\n",
              "    <path d=\"M0 0h24v24H0V0z\" fill=\"none\"/>\n",
              "    <path d=\"M18.56 5.44l.94 2.06.94-2.06 2.06-.94-2.06-.94-.94-2.06-.94 2.06-2.06.94zm-11 1L8.5 8.5l.94-2.06 2.06-.94-2.06-.94L8.5 2.5l-.94 2.06-2.06.94zm10 10l.94 2.06.94-2.06 2.06-.94-2.06-.94-.94-2.06-.94 2.06-2.06.94z\"/><path d=\"M17.41 7.96l-1.37-1.37c-.4-.4-.92-.59-1.43-.59-.52 0-1.04.2-1.43.59L10.3 9.45l-7.72 7.72c-.78.78-.78 2.05 0 2.83L4 21.41c.39.39.9.59 1.41.59.51 0 1.02-.2 1.41-.59l7.78-7.78 2.81-2.81c.8-.78.8-2.07 0-2.86zM5.41 20L4 18.59l7.72-7.72 1.47 1.35L5.41 20z\"/>\n",
              "  </svg>\n",
              "      </button>\n",
              "      \n",
              "  <style>\n",
              "    .colab-df-container {\n",
              "      display:flex;\n",
              "      flex-wrap:wrap;\n",
              "      gap: 12px;\n",
              "    }\n",
              "\n",
              "    .colab-df-convert {\n",
              "      background-color: #E8F0FE;\n",
              "      border: none;\n",
              "      border-radius: 50%;\n",
              "      cursor: pointer;\n",
              "      display: none;\n",
              "      fill: #1967D2;\n",
              "      height: 32px;\n",
              "      padding: 0 0 0 0;\n",
              "      width: 32px;\n",
              "    }\n",
              "\n",
              "    .colab-df-convert:hover {\n",
              "      background-color: #E2EBFA;\n",
              "      box-shadow: 0px 1px 2px rgba(60, 64, 67, 0.3), 0px 1px 3px 1px rgba(60, 64, 67, 0.15);\n",
              "      fill: #174EA6;\n",
              "    }\n",
              "\n",
              "    [theme=dark] .colab-df-convert {\n",
              "      background-color: #3B4455;\n",
              "      fill: #D2E3FC;\n",
              "    }\n",
              "\n",
              "    [theme=dark] .colab-df-convert:hover {\n",
              "      background-color: #434B5C;\n",
              "      box-shadow: 0px 1px 3px 1px rgba(0, 0, 0, 0.15);\n",
              "      filter: drop-shadow(0px 1px 2px rgba(0, 0, 0, 0.3));\n",
              "      fill: #FFFFFF;\n",
              "    }\n",
              "  </style>\n",
              "\n",
              "      <script>\n",
              "        const buttonEl =\n",
              "          document.querySelector('#df-14326087-cbcc-4249-99fa-451ab52ddd28 button.colab-df-convert');\n",
              "        buttonEl.style.display =\n",
              "          google.colab.kernel.accessAllowed ? 'block' : 'none';\n",
              "\n",
              "        async function convertToInteractive(key) {\n",
              "          const element = document.querySelector('#df-14326087-cbcc-4249-99fa-451ab52ddd28');\n",
              "          const dataTable =\n",
              "            await google.colab.kernel.invokeFunction('convertToInteractive',\n",
              "                                                     [key], {});\n",
              "          if (!dataTable) return;\n",
              "\n",
              "          const docLinkHtml = 'Like what you see? Visit the ' +\n",
              "            '<a target=\"_blank\" href=https://colab.research.google.com/notebooks/data_table.ipynb>data table notebook</a>'\n",
              "            + ' to learn more about interactive tables.';\n",
              "          element.innerHTML = '';\n",
              "          dataTable['output_type'] = 'display_data';\n",
              "          await google.colab.output.renderOutput(dataTable, element);\n",
              "          const docLink = document.createElement('div');\n",
              "          docLink.innerHTML = docLinkHtml;\n",
              "          element.appendChild(docLink);\n",
              "        }\n",
              "      </script>\n",
              "    </div>\n",
              "  </div>\n",
              "  "
            ]
          },
          "metadata": {},
          "execution_count": 443
        }
      ]
    },
    {
      "cell_type": "code",
      "source": [
        "nd.shape"
      ],
      "metadata": {
        "id": "3XDkOVqzPPhN",
        "colab": {
          "base_uri": "https://localhost:8080/"
        },
        "outputId": "3628d2dd-fe50-43cc-9d1b-37215bfd293b"
      },
      "execution_count": null,
      "outputs": [
        {
          "output_type": "execute_result",
          "data": {
            "text/plain": [
              "(3031, 23)"
            ]
          },
          "metadata": {},
          "execution_count": 444
        }
      ]
    },
    {
      "cell_type": "code",
      "source": [
        "nd.info()"
      ],
      "metadata": {
        "id": "BmdibbLUTqgm",
        "colab": {
          "base_uri": "https://localhost:8080/"
        },
        "outputId": "a3674d4c-8b6f-4777-c8b7-1ce80ae81f78"
      },
      "execution_count": null,
      "outputs": [
        {
          "output_type": "stream",
          "name": "stdout",
          "text": [
            "<class 'pandas.core.frame.DataFrame'>\n",
            "RangeIndex: 3031 entries, 0 to 3030\n",
            "Data columns (total 23 columns):\n",
            " #   Column                      Non-Null Count  Dtype \n",
            "---  ------                      --------------  ----- \n",
            " 0   fema_declaration_string     3031 non-null   object\n",
            " 1   disaster_number             3031 non-null   int64 \n",
            " 2   state                       3031 non-null   object\n",
            " 3   declaration_type            3031 non-null   object\n",
            " 4   declaration_date            3031 non-null   object\n",
            " 5   fy_declared                 3031 non-null   int64 \n",
            " 6   incident_type               3031 non-null   object\n",
            " 7   declaration_title           3031 non-null   object\n",
            " 8   ih_program_declared         3031 non-null   int64 \n",
            " 9   ia_program_declared         3031 non-null   int64 \n",
            " 10  pa_program_declared         3031 non-null   int64 \n",
            " 11  hm_program_declared         3031 non-null   int64 \n",
            " 12  incident_begin_date         3031 non-null   object\n",
            " 13  incident_end_date           2950 non-null   object\n",
            " 14  disaster_closeout_date      686 non-null    object\n",
            " 15  fips                        3031 non-null   int64 \n",
            " 16  place_code                  3031 non-null   int64 \n",
            " 17  designated_area             3031 non-null   object\n",
            " 18  declaration_request_number  3031 non-null   int64 \n",
            " 19  last_ia_filing_date         1044 non-null   object\n",
            " 20  hash                        3031 non-null   object\n",
            " 21  last_refresh                3031 non-null   object\n",
            " 22  id                          3031 non-null   object\n",
            "dtypes: int64(9), object(14)\n",
            "memory usage: 544.8+ KB\n"
          ]
        }
      ]
    },
    {
      "cell_type": "markdown",
      "source": [
        "**Preprocessing**\n",
        "\n",
        "*   Missing value handling\n",
        "\n"
      ],
      "metadata": {
        "id": "WARTCDAcT8lE"
      }
    },
    {
      "cell_type": "code",
      "source": [
        "nd.isna().sum()"
      ],
      "metadata": {
        "id": "m_VJIPsSTsko",
        "colab": {
          "base_uri": "https://localhost:8080/"
        },
        "outputId": "85cb4d26-55ee-4a6c-8eba-c4b79579ded9"
      },
      "execution_count": null,
      "outputs": [
        {
          "output_type": "execute_result",
          "data": {
            "text/plain": [
              "fema_declaration_string          0\n",
              "disaster_number                  0\n",
              "state                            0\n",
              "declaration_type                 0\n",
              "declaration_date                 0\n",
              "fy_declared                      0\n",
              "incident_type                    0\n",
              "declaration_title                0\n",
              "ih_program_declared              0\n",
              "ia_program_declared              0\n",
              "pa_program_declared              0\n",
              "hm_program_declared              0\n",
              "incident_begin_date              0\n",
              "incident_end_date               81\n",
              "disaster_closeout_date        2345\n",
              "fips                             0\n",
              "place_code                       0\n",
              "designated_area                  0\n",
              "declaration_request_number       0\n",
              "last_ia_filing_date           1987\n",
              "hash                             0\n",
              "last_refresh                     0\n",
              "id                               0\n",
              "dtype: int64"
            ]
          },
          "metadata": {},
          "execution_count": 446
        }
      ]
    },
    {
      "cell_type": "markdown",
      "source": [
        "Droping columns which has more than 70% Null Value"
      ],
      "metadata": {
        "id": "XczcwTOoh8rf"
      }
    },
    {
      "cell_type": "code",
      "source": [
        "limit = len(nd) * 0.7\n",
        "nd.dropna(axis=1, thresh=limit, inplace = True)\n",
        "nd.isna().sum()"
      ],
      "metadata": {
        "id": "Yj70ccpQQlq0",
        "colab": {
          "base_uri": "https://localhost:8080/"
        },
        "outputId": "1ed894e1-d9dd-417e-8d42-f01dfbf3a25c"
      },
      "execution_count": null,
      "outputs": [
        {
          "output_type": "execute_result",
          "data": {
            "text/plain": [
              "fema_declaration_string        0\n",
              "disaster_number                0\n",
              "state                          0\n",
              "declaration_type               0\n",
              "declaration_date               0\n",
              "fy_declared                    0\n",
              "incident_type                  0\n",
              "declaration_title              0\n",
              "ih_program_declared            0\n",
              "ia_program_declared            0\n",
              "pa_program_declared            0\n",
              "hm_program_declared            0\n",
              "incident_begin_date            0\n",
              "incident_end_date             81\n",
              "fips                           0\n",
              "place_code                     0\n",
              "designated_area                0\n",
              "declaration_request_number     0\n",
              "hash                           0\n",
              "last_refresh                   0\n",
              "id                             0\n",
              "dtype: int64"
            ]
          },
          "metadata": {},
          "execution_count": 447
        }
      ]
    },
    {
      "cell_type": "markdown",
      "source": [
        "Droping column which is irrelevent"
      ],
      "metadata": {
        "id": "OFm3sfdbTZqo"
      }
    },
    {
      "cell_type": "code",
      "source": [
        "nd = nd.drop([\"incident_end_date\"],axis=1)"
      ],
      "metadata": {
        "id": "ohMFPSdHy2Um"
      },
      "execution_count": null,
      "outputs": []
    },
    {
      "cell_type": "code",
      "source": [
        "nd.isna().sum()"
      ],
      "metadata": {
        "id": "XF9Q5F41iiqx",
        "colab": {
          "base_uri": "https://localhost:8080/"
        },
        "outputId": "93bfb756-32e4-4683-abed-b5c549fd6207"
      },
      "execution_count": null,
      "outputs": [
        {
          "output_type": "execute_result",
          "data": {
            "text/plain": [
              "fema_declaration_string       0\n",
              "disaster_number               0\n",
              "state                         0\n",
              "declaration_type              0\n",
              "declaration_date              0\n",
              "fy_declared                   0\n",
              "incident_type                 0\n",
              "declaration_title             0\n",
              "ih_program_declared           0\n",
              "ia_program_declared           0\n",
              "pa_program_declared           0\n",
              "hm_program_declared           0\n",
              "incident_begin_date           0\n",
              "fips                          0\n",
              "place_code                    0\n",
              "designated_area               0\n",
              "declaration_request_number    0\n",
              "hash                          0\n",
              "last_refresh                  0\n",
              "id                            0\n",
              "dtype: int64"
            ]
          },
          "metadata": {},
          "execution_count": 449
        }
      ]
    },
    {
      "cell_type": "markdown",
      "source": [
        "**Outlier**\n",
        "\n",
        "*   Detection and Handling\n",
        "\n"
      ],
      "metadata": {
        "id": "qMBnw00sm6HE"
      }
    },
    {
      "cell_type": "code",
      "source": [
        "col = list(nd.columns)\n",
        "int64_col = [i for i in col if (nd[i].dtype == 'int64')]\n",
        "print(int64_col)\n",
        "\n",
        "df1 = pd.DataFrame(data = nd, columns = int64_col)\n",
        "\n",
        "plt.figure(figsize=(15,8))\n",
        "sns.boxplot(x=\"variable\", y=\"value\", data=pd.melt(df1))\n",
        "plt.show()"
      ],
      "metadata": {
        "id": "wod3-VkZmqav",
        "colab": {
          "base_uri": "https://localhost:8080/",
          "height": 535
        },
        "outputId": "35d389ec-c2b8-4bf0-f98f-0986881439da"
      },
      "execution_count": null,
      "outputs": [
        {
          "output_type": "stream",
          "name": "stdout",
          "text": [
            "['disaster_number', 'fy_declared', 'ih_program_declared', 'ia_program_declared', 'pa_program_declared', 'hm_program_declared', 'fips', 'place_code', 'declaration_request_number']\n"
          ]
        },
        {
          "output_type": "display_data",
          "data": {
            "text/plain": [
              "<Figure size 1080x576 with 1 Axes>"
            ],
            "image/png": "[encoded data removed]"
          },
          "metadata": {
            "needs_background": "light"
          }
        }
      ]
    },
    {
      "cell_type": "code",
      "source": [
        "col2 = list(nd.columns)\n",
        "obj_col = [i for i in col if (nd[i].dtype == 'object')]\n",
        "print(obj_col)\n",
        "\n",
        "df2 = pd.DataFrame(data = nd, columns = obj_col)"
      ],
      "metadata": {
        "id": "lgmA2Yf9UVRg",
        "colab": {
          "base_uri": "https://localhost:8080/"
        },
        "outputId": "4fc171a4-2e63-4143-f2da-cf9f416954cc"
      },
      "execution_count": null,
      "outputs": [
        {
          "output_type": "stream",
          "name": "stdout",
          "text": [
            "['fema_declaration_string', 'state', 'declaration_type', 'declaration_date', 'incident_type', 'declaration_title', 'incident_begin_date', 'designated_area', 'hash', 'last_refresh', 'id']\n"
          ]
        }
      ]
    },
    {
      "cell_type": "code",
      "source": [
        "df2.nunique()"
      ],
      "metadata": {
        "id": "VuEAbhjzXDjo",
        "colab": {
          "base_uri": "https://localhost:8080/"
        },
        "outputId": "dd4a2be7-7d50-47f0-d774-a3e32a54bc6b"
      },
      "execution_count": null,
      "outputs": [
        {
          "output_type": "execute_result",
          "data": {
            "text/plain": [
              "fema_declaration_string     229\n",
              "state                        47\n",
              "declaration_type              3\n",
              "declaration_date            227\n",
              "incident_type                11\n",
              "declaration_title           152\n",
              "incident_begin_date         172\n",
              "designated_area            1018\n",
              "hash                       3031\n",
              "last_refresh                 42\n",
              "id                         3031\n",
              "dtype: int64"
            ]
          },
          "metadata": {},
          "execution_count": 452
        }
      ]
    },
    {
      "cell_type": "code",
      "source": [
        ""
      ],
      "metadata": {
        "id": "nLrj-HHSmNzV"
      },
      "execution_count": null,
      "outputs": []
    },
    {
      "cell_type": "code",
      "source": [
        "df2.value_counts(['incident_type'])"
      ],
      "metadata": {
        "id": "MC-bZaz7X904",
        "colab": {
          "base_uri": "https://localhost:8080/"
        },
        "outputId": "3969c9d0-8191-451e-8352-f068e3537fb0"
      },
      "execution_count": null,
      "outputs": [
        {
          "output_type": "execute_result",
          "data": {
            "text/plain": [
              "incident_type   \n",
              "Hurricane           1177\n",
              "Severe Ice Storm     952\n",
              "Severe Storm(s)      340\n",
              "Fire                 210\n",
              "Flood                123\n",
              "Tornado              107\n",
              "Coastal Storm         69\n",
              "Snow                  37\n",
              "Other                  9\n",
              "Mud/Landslide          5\n",
              "Biological             2\n",
              "dtype: int64"
            ]
          },
          "metadata": {},
          "execution_count": 453
        }
      ]
    },
    {
      "cell_type": "markdown",
      "source": [
        "* Feature Reduction\n"
      ],
      "metadata": {
        "id": "1e3gMowybo6t"
      }
    },
    {
      "cell_type": "code",
      "source": [
        "nd = nd.drop(['declaration_date','fy_declared','disaster_number','id','incident_begin_date','last_refresh','place_code','ia_program_declared'],axis=1)"
      ],
      "metadata": {
        "id": "Y74XOGzfnI5h"
      },
      "execution_count": null,
      "outputs": []
    },
    {
      "cell_type": "code",
      "source": [
        "nd.info()"
      ],
      "metadata": {
        "id": "ffHSA6Rvba70",
        "colab": {
          "base_uri": "https://localhost:8080/"
        },
        "outputId": "5ccff8a6-0c87-4a1c-a5db-eb882a5538f8"
      },
      "execution_count": null,
      "outputs": [
        {
          "output_type": "stream",
          "name": "stdout",
          "text": [
            "<class 'pandas.core.frame.DataFrame'>\n",
            "RangeIndex: 3031 entries, 0 to 3030\n",
            "Data columns (total 12 columns):\n",
            " #   Column                      Non-Null Count  Dtype \n",
            "---  ------                      --------------  ----- \n",
            " 0   fema_declaration_string     3031 non-null   object\n",
            " 1   state                       3031 non-null   object\n",
            " 2   declaration_type            3031 non-null   object\n",
            " 3   incident_type               3031 non-null   object\n",
            " 4   declaration_title           3031 non-null   object\n",
            " 5   ih_program_declared         3031 non-null   int64 \n",
            " 6   pa_program_declared         3031 non-null   int64 \n",
            " 7   hm_program_declared         3031 non-null   int64 \n",
            " 8   fips                        3031 non-null   int64 \n",
            " 9   designated_area             3031 non-null   object\n",
            " 10  declaration_request_number  3031 non-null   int64 \n",
            " 11  hash                        3031 non-null   object\n",
            "dtypes: int64(5), object(7)\n",
            "memory usage: 284.3+ KB\n"
          ]
        }
      ]
    },
    {
      "cell_type": "code",
      "source": [
        "nd.head(10)"
      ],
      "metadata": {
        "id": "bIZX3MbCdZnl",
        "colab": {
          "base_uri": "https://localhost:8080/",
          "height": 514
        },
        "outputId": "4dc0b041-31ce-4095-ce0b-8e1f7d2eaffd"
      },
      "execution_count": null,
      "outputs": [
        {
          "output_type": "execute_result",
          "data": {
            "text/plain": [
              "  fema_declaration_string state declaration_type incident_type  \\\n",
              "0              EM-3541-AR    AR               EM     Hurricane   \n",
              "1              EM-3541-AR    AR               EM     Hurricane   \n",
              "2              EM-3541-AR    AR               EM     Hurricane   \n",
              "3              EM-3541-AR    AR               EM     Hurricane   \n",
              "4              EM-3541-AR    AR               EM     Hurricane   \n",
              "5              EM-3541-AR    AR               EM     Hurricane   \n",
              "6              EM-3541-AR    AR               EM     Hurricane   \n",
              "7              EM-3541-AR    AR               EM     Hurricane   \n",
              "8              EM-3541-AR    AR               EM     Hurricane   \n",
              "9              EM-3541-AR    AR               EM     Hurricane   \n",
              "\n",
              "  declaration_title  ih_program_declared  pa_program_declared  \\\n",
              "0   Hurricane Laura                    0                    1   \n",
              "1   Hurricane Laura                    0                    1   \n",
              "2   Hurricane Laura                    0                    1   \n",
              "3   Hurricane Laura                    0                    1   \n",
              "4   Hurricane Laura                    0                    1   \n",
              "5   Hurricane Laura                    0                    1   \n",
              "6   Hurricane Laura                    0                    1   \n",
              "7   Hurricane Laura                    0                    1   \n",
              "8   Hurricane Laura                    0                    1   \n",
              "9   Hurricane Laura                    0                    1   \n",
              "\n",
              "   hm_program_declared  fips       designated_area  \\\n",
              "0                    0  5131    Sebastian (County)   \n",
              "1                    0  5143   Washington (County)   \n",
              "2                    0  5079      Lincoln (County)   \n",
              "3                    0  5073    Lafayette (County)   \n",
              "4                    0  5087      Madison (County)   \n",
              "5                    0  5111     Poinsett (County)   \n",
              "6                    0  5123  St. Francis (County)   \n",
              "7                    0  5091       Miller (County)   \n",
              "8                    0  5141    Van Buren (County)   \n",
              "9                    0  5097   Montgomery (County)   \n",
              "\n",
              "   declaration_request_number                                      hash  \n",
              "0                       20250  faf01c718335e81b32ad4e24273fb64809c3448a  \n",
              "1                       20250  f67274aed9f248a7c3a201a928221b9d26e8feef  \n",
              "2                       20250  e5f25604660ea286f771c6845e0152e646398dbb  \n",
              "3                       20250  2a012081fac9add3af85127bbc8bc0f68b355718  \n",
              "4                       20250  7b0381cd5b6489d2daef14dcdff267ef3343f7c4  \n",
              "5                       20250  93067889d8e578e3bd01ab505c538d602485de9b  \n",
              "6                       20250  b070a8a2a0b755379173ce45fdec371d719ec416  \n",
              "7                       20250  00f12489d0c6e6aa864cde675117b5523811d38f  \n",
              "8                       20250  825f292b4fc36ed224615a7be7fcc1c9bbd2699d  \n",
              "9                       20250  5c981d7fc12ad615c92b84641da91b8b5fa9266f  "
            ],
            "text/html": [
              "\n",
              "  <div id=\"df-34bcf4ba-41e4-4337-808c-b7b7ff67ca36\">\n",
              "    <div class=\"colab-df-container\">\n",
              "      <div>\n",
              "<style scoped>\n",
              "    .dataframe tbody tr th:only-of-type {\n",
              "        vertical-align: middle;\n",
              "    }\n",
              "\n",
              "    .dataframe tbody tr th {\n",
              "        vertical-align: top;\n",
              "    }\n",
              "\n",
              "    .dataframe thead th {\n",
              "        text-align: right;\n",
              "    }\n",
              "</style>\n",
              "<table border=\"1\" class=\"dataframe\">\n",
              "  <thead>\n",
              "    <tr style=\"text-align: right;\">\n",
              "      <th></th>\n",
              "      <th>fema_declaration_string</th>\n",
              "      <th>state</th>\n",
              "      <th>declaration_type</th>\n",
              "      <th>incident_type</th>\n",
              "      <th>declaration_title</th>\n",
              "      <th>ih_program_declared</th>\n",
              "      <th>pa_program_declared</th>\n",
              "      <th>hm_program_declared</th>\n",
              "      <th>fips</th>\n",
              "      <th>designated_area</th>\n",
              "      <th>declaration_request_number</th>\n",
              "      <th>hash</th>\n",
              "    </tr>\n",
              "  </thead>\n",
              "  <tbody>\n",
              "    <tr>\n",
              "      <th>0</th>\n",
              "      <td>EM-3541-AR</td>\n",
              "      <td>AR</td>\n",
              "      <td>EM</td>\n",
              "      <td>Hurricane</td>\n",
              "      <td>Hurricane Laura</td>\n",
              "      <td>0</td>\n",
              "      <td>1</td>\n",
              "      <td>0</td>\n",
              "      <td>5131</td>\n",
              "      <td>Sebastian (County)</td>\n",
              "      <td>20250</td>\n",
              "      <td>faf01c718335e81b32ad4e24273fb64809c3448a</td>\n",
              "    </tr>\n",
              "    <tr>\n",
              "      <th>1</th>\n",
              "      <td>EM-3541-AR</td>\n",
              "      <td>AR</td>\n",
              "      <td>EM</td>\n",
              "      <td>Hurricane</td>\n",
              "      <td>Hurricane Laura</td>\n",
              "      <td>0</td>\n",
              "      <td>1</td>\n",
              "      <td>0</td>\n",
              "      <td>5143</td>\n",
              "      <td>Washington (County)</td>\n",
              "      <td>20250</td>\n",
              "      <td>f67274aed9f248a7c3a201a928221b9d26e8feef</td>\n",
              "    </tr>\n",
              "    <tr>\n",
              "      <th>2</th>\n",
              "      <td>EM-3541-AR</td>\n",
              "      <td>AR</td>\n",
              "      <td>EM</td>\n",
              "      <td>Hurricane</td>\n",
              "      <td>Hurricane Laura</td>\n",
              "      <td>0</td>\n",
              "      <td>1</td>\n",
              "      <td>0</td>\n",
              "      <td>5079</td>\n",
              "      <td>Lincoln (County)</td>\n",
              "      <td>20250</td>\n",
              "      <td>e5f25604660ea286f771c6845e0152e646398dbb</td>\n",
              "    </tr>\n",
              "    <tr>\n",
              "      <th>3</th>\n",
              "      <td>EM-3541-AR</td>\n",
              "      <td>AR</td>\n",
              "      <td>EM</td>\n",
              "      <td>Hurricane</td>\n",
              "      <td>Hurricane Laura</td>\n",
              "      <td>0</td>\n",
              "      <td>1</td>\n",
              "      <td>0</td>\n",
              "      <td>5073</td>\n",
              "      <td>Lafayette (County)</td>\n",
              "      <td>20250</td>\n",
              "      <td>2a012081fac9add3af85127bbc8bc0f68b355718</td>\n",
              "    </tr>\n",
              "    <tr>\n",
              "      <th>4</th>\n",
              "      <td>EM-3541-AR</td>\n",
              "      <td>AR</td>\n",
              "      <td>EM</td>\n",
              "      <td>Hurricane</td>\n",
              "      <td>Hurricane Laura</td>\n",
              "      <td>0</td>\n",
              "      <td>1</td>\n",
              "      <td>0</td>\n",
              "      <td>5087</td>\n",
              "      <td>Madison (County)</td>\n",
              "      <td>20250</td>\n",
              "      <td>7b0381cd5b6489d2daef14dcdff267ef3343f7c4</td>\n",
              "    </tr>\n",
              "    <tr>\n",
              "      <th>5</th>\n",
              "      <td>EM-3541-AR</td>\n",
              "      <td>AR</td>\n",
              "      <td>EM</td>\n",
              "      <td>Hurricane</td>\n",
              "      <td>Hurricane Laura</td>\n",
              "      <td>0</td>\n",
              "      <td>1</td>\n",
              "      <td>0</td>\n",
              "      <td>5111</td>\n",
              "      <td>Poinsett (County)</td>\n",
              "      <td>20250</td>\n",
              "      <td>93067889d8e578e3bd01ab505c538d602485de9b</td>\n",
              "    </tr>\n",
              "    <tr>\n",
              "      <th>6</th>\n",
              "      <td>EM-3541-AR</td>\n",
              "      <td>AR</td>\n",
              "      <td>EM</td>\n",
              "      <td>Hurricane</td>\n",
              "      <td>Hurricane Laura</td>\n",
              "      <td>0</td>\n",
              "      <td>1</td>\n",
              "      <td>0</td>\n",
              "      <td>5123</td>\n",
              "      <td>St. Francis (County)</td>\n",
              "      <td>20250</td>\n",
              "      <td>b070a8a2a0b755379173ce45fdec371d719ec416</td>\n",
              "    </tr>\n",
              "    <tr>\n",
              "      <th>7</th>\n",
              "      <td>EM-3541-AR</td>\n",
              "      <td>AR</td>\n",
              "      <td>EM</td>\n",
              "      <td>Hurricane</td>\n",
              "      <td>Hurricane Laura</td>\n",
              "      <td>0</td>\n",
              "      <td>1</td>\n",
              "      <td>0</td>\n",
              "      <td>5091</td>\n",
              "      <td>Miller (County)</td>\n",
              "      <td>20250</td>\n",
              "      <td>00f12489d0c6e6aa864cde675117b5523811d38f</td>\n",
              "    </tr>\n",
              "    <tr>\n",
              "      <th>8</th>\n",
              "      <td>EM-3541-AR</td>\n",
              "      <td>AR</td>\n",
              "      <td>EM</td>\n",
              "      <td>Hurricane</td>\n",
              "      <td>Hurricane Laura</td>\n",
              "      <td>0</td>\n",
              "      <td>1</td>\n",
              "      <td>0</td>\n",
              "      <td>5141</td>\n",
              "      <td>Van Buren (County)</td>\n",
              "      <td>20250</td>\n",
              "      <td>825f292b4fc36ed224615a7be7fcc1c9bbd2699d</td>\n",
              "    </tr>\n",
              "    <tr>\n",
              "      <th>9</th>\n",
              "      <td>EM-3541-AR</td>\n",
              "      <td>AR</td>\n",
              "      <td>EM</td>\n",
              "      <td>Hurricane</td>\n",
              "      <td>Hurricane Laura</td>\n",
              "      <td>0</td>\n",
              "      <td>1</td>\n",
              "      <td>0</td>\n",
              "      <td>5097</td>\n",
              "      <td>Montgomery (County)</td>\n",
              "      <td>20250</td>\n",
              "      <td>5c981d7fc12ad615c92b84641da91b8b5fa9266f</td>\n",
              "    </tr>\n",
              "  </tbody>\n",
              "</table>\n",
              "</div>\n",
              "      <button class=\"colab-df-convert\" onclick=\"convertToInteractive('df-34bcf4ba-41e4-4337-808c-b7b7ff67ca36')\"\n",
              "              title=\"Convert this dataframe to an interactive table.\"\n",
              "              style=\"display:none;\">\n",
              "        \n",
              "  <svg xmlns=\"http://www.w3.org/2000/svg\" height=\"24px\"viewBox=\"0 0 24 24\"\n",
              "       width=\"24px\">\n",
              "    <path d=\"M0 0h24v24H0V0z\" fill=\"none\"/>\n",
              "    <path d=\"M18.56 5.44l.94 2.06.94-2.06 2.06-.94-2.06-.94-.94-2.06-.94 2.06-2.06.94zm-11 1L8.5 8.5l.94-2.06 2.06-.94-2.06-.94L8.5 2.5l-.94 2.06-2.06.94zm10 10l.94 2.06.94-2.06 2.06-.94-2.06-.94-.94-2.06-.94 2.06-2.06.94z\"/><path d=\"M17.41 7.96l-1.37-1.37c-.4-.4-.92-.59-1.43-.59-.52 0-1.04.2-1.43.59L10.3 9.45l-7.72 7.72c-.78.78-.78 2.05 0 2.83L4 21.41c.39.39.9.59 1.41.59.51 0 1.02-.2 1.41-.59l7.78-7.78 2.81-2.81c.8-.78.8-2.07 0-2.86zM5.41 20L4 18.59l7.72-7.72 1.47 1.35L5.41 20z\"/>\n",
              "  </svg>\n",
              "      </button>\n",
              "      \n",
              "  <style>\n",
              "    .colab-df-container {\n",
              "      display:flex;\n",
              "      flex-wrap:wrap;\n",
              "      gap: 12px;\n",
              "    }\n",
              "\n",
              "    .colab-df-convert {\n",
              "      background-color: #E8F0FE;\n",
              "      border: none;\n",
              "      border-radius: 50%;\n",
              "      cursor: pointer;\n",
              "      display: none;\n",
              "      fill: #1967D2;\n",
              "      height: 32px;\n",
              "      padding: 0 0 0 0;\n",
              "      width: 32px;\n",
              "    }\n",
              "\n",
              "    .colab-df-convert:hover {\n",
              "      background-color: #E2EBFA;\n",
              "      box-shadow: 0px 1px 2px rgba(60, 64, 67, 0.3), 0px 1px 3px 1px rgba(60, 64, 67, 0.15);\n",
              "      fill: #174EA6;\n",
              "    }\n",
              "\n",
              "    [theme=dark] .colab-df-convert {\n",
              "      background-color: #3B4455;\n",
              "      fill: #D2E3FC;\n",
              "    }\n",
              "\n",
              "    [theme=dark] .colab-df-convert:hover {\n",
              "      background-color: #434B5C;\n",
              "      box-shadow: 0px 1px 3px 1px rgba(0, 0, 0, 0.15);\n",
              "      filter: drop-shadow(0px 1px 2px rgba(0, 0, 0, 0.3));\n",
              "      fill: #FFFFFF;\n",
              "    }\n",
              "  </style>\n",
              "\n",
              "      <script>\n",
              "        const buttonEl =\n",
              "          document.querySelector('#df-34bcf4ba-41e4-4337-808c-b7b7ff67ca36 button.colab-df-convert');\n",
              "        buttonEl.style.display =\n",
              "          google.colab.kernel.accessAllowed ? 'block' : 'none';\n",
              "\n",
              "        async function convertToInteractive(key) {\n",
              "          const element = document.querySelector('#df-34bcf4ba-41e4-4337-808c-b7b7ff67ca36');\n",
              "          const dataTable =\n",
              "            await google.colab.kernel.invokeFunction('convertToInteractive',\n",
              "                                                     [key], {});\n",
              "          if (!dataTable) return;\n",
              "\n",
              "          const docLinkHtml = 'Like what you see? Visit the ' +\n",
              "            '<a target=\"_blank\" href=https://colab.research.google.com/notebooks/data_table.ipynb>data table notebook</a>'\n",
              "            + ' to learn more about interactive tables.';\n",
              "          element.innerHTML = '';\n",
              "          dataTable['output_type'] = 'display_data';\n",
              "          await google.colab.output.renderOutput(dataTable, element);\n",
              "          const docLink = document.createElement('div');\n",
              "          docLink.innerHTML = docLinkHtml;\n",
              "          element.appendChild(docLink);\n",
              "        }\n",
              "      </script>\n",
              "    </div>\n",
              "  </div>\n",
              "  "
            ]
          },
          "metadata": {},
          "execution_count": 456
        }
      ]
    },
    {
      "cell_type": "code",
      "source": [
        "nd['declaration_type'].value_counts()"
      ],
      "metadata": {
        "colab": {
          "base_uri": "https://localhost:8080/"
        },
        "id": "nMU7kIv7lPOO",
        "outputId": "734c768c-9f06-4c8f-b5ef-8f306fa64eff"
      },
      "execution_count": null,
      "outputs": [
        {
          "output_type": "execute_result",
          "data": {
            "text/plain": [
              "DR    1690\n",
              "EM    1209\n",
              "FM     132\n",
              "Name: declaration_type, dtype: int64"
            ]
          },
          "metadata": {},
          "execution_count": 457
        }
      ]
    },
    {
      "cell_type": "markdown",
      "source": [
        "*   Feature Engineering\n",
        "\n"
      ],
      "metadata": {
        "id": "c4xwepj75aBj"
      }
    },
    {
      "cell_type": "code",
      "source": [
        "nd['incident_type'] = nd['incident_type'] + nd['declaration_title']"
      ],
      "metadata": {
        "id": "-KWiTw_o2qZB"
      },
      "execution_count": null,
      "outputs": []
    },
    {
      "cell_type": "code",
      "source": [
        "nd.drop('declaration_title',axis = 1,inplace=True)"
      ],
      "metadata": {
        "id": "vJbGeQeQ4kuF"
      },
      "execution_count": null,
      "outputs": []
    },
    {
      "cell_type": "code",
      "source": [
        "nd.info()"
      ],
      "metadata": {
        "colab": {
          "base_uri": "https://localhost:8080/"
        },
        "id": "CxZ3KNSk6to8",
        "outputId": "809c8753-1a06-4dd5-a58f-0803a0e2a7d7"
      },
      "execution_count": null,
      "outputs": [
        {
          "output_type": "stream",
          "name": "stdout",
          "text": [
            "<class 'pandas.core.frame.DataFrame'>\n",
            "RangeIndex: 3031 entries, 0 to 3030\n",
            "Data columns (total 11 columns):\n",
            " #   Column                      Non-Null Count  Dtype \n",
            "---  ------                      --------------  ----- \n",
            " 0   fema_declaration_string     3031 non-null   object\n",
            " 1   state                       3031 non-null   object\n",
            " 2   declaration_type            3031 non-null   object\n",
            " 3   incident_type               3031 non-null   object\n",
            " 4   ih_program_declared         3031 non-null   int64 \n",
            " 5   pa_program_declared         3031 non-null   int64 \n",
            " 6   hm_program_declared         3031 non-null   int64 \n",
            " 7   fips                        3031 non-null   int64 \n",
            " 8   designated_area             3031 non-null   object\n",
            " 9   declaration_request_number  3031 non-null   int64 \n",
            " 10  hash                        3031 non-null   object\n",
            "dtypes: int64(5), object(6)\n",
            "memory usage: 260.6+ KB\n"
          ]
        }
      ]
    },
    {
      "cell_type": "markdown",
      "source": [
        "**Exploratory Data Analysis**"
      ],
      "metadata": {
        "id": "l-93pSR5WRhn"
      }
    },
    {
      "cell_type": "code",
      "source": [
        "us_state_to_abbrev = {\n",
        "    \"Alabama\": \"AL\",\n",
        "    \"Alaska\": \"AK\",\n",
        "    \"Arizona\": \"AZ\",\n",
        "    \"Arkansas\": \"AR\",\n",
        "    \"California\": \"CA\",\n",
        "    \"Colorado\": \"CO\",\n",
        "    \"Connecticut\": \"CT\",\n",
        "    \"Delaware\": \"DE\",\n",
        "    \"Florida\": \"FL\",\n",
        "    \"Georgia\": \"GA\",\n",
        "    \"Hawaii\": \"HI\",\n",
        "    \"Idaho\": \"ID\",\n",
        "    \"Illinois\": \"IL\",\n",
        "    \"Indiana\": \"IN\",\n",
        "    \"Iowa\": \"IA\",\n",
        "    \"Kansas\": \"KS\",\n",
        "    \"Kentucky\": \"KY\",\n",
        "    \"Louisiana\": \"LA\",\n",
        "    \"Maine\": \"ME\",\n",
        "    \"Maryland\": \"MD\",\n",
        "    \"Massachusetts\": \"MA\",\n",
        "    \"Michigan\": \"MI\",\n",
        "    \"Minnesota\": \"MN\",\n",
        "    \"Mississippi\": \"MS\",\n",
        "    \"Missouri\": \"MO\",\n",
        "    \"Montana\": \"MT\",\n",
        "    \"Nebraska\": \"NE\",\n",
        "    \"Nevada\": \"NV\",\n",
        "    \"New Hampshire\": \"NH\",\n",
        "    \"New Jersey\": \"NJ\",\n",
        "    \"New Mexico\": \"NM\",\n",
        "    \"New York\": \"NY\",\n",
        "    \"North Carolina\": \"NC\",\n",
        "    \"North Dakota\": \"ND\",\n",
        "    \"Ohio\": \"OH\",\n",
        "    \"Oklahoma\": \"OK\",\n",
        "    \"Oregon\": \"OR\",\n",
        "    \"Pennsylvania\": \"PA\",\n",
        "    \"Rhode Island\": \"RI\",\n",
        "    \"South Carolina\": \"SC\",\n",
        "    \"South Dakota\": \"SD\",\n",
        "    \"Tennessee\": \"TN\",\n",
        "    \"Texas\": \"TX\",\n",
        "    \"Utah\": \"UT\",\n",
        "    \"Vermont\": \"VT\",\n",
        "    \"Virginia\": \"VA\",\n",
        "    \"Washington\": \"WA\",\n",
        "    \"West Virginia\": \"WV\",\n",
        "    \"Wisconsin\": \"WI\",\n",
        "    \"Wyoming\": \"WY\",\n",
        "    \"District of Columbia\": \"DC\",\n",
        "    \"American Samoa\": \"AS\",\n",
        "    \"Guam\": \"GU\",\n",
        "    \"Northern Mariana Islands\": \"MP\",\n",
        "    \"Puerto Rico\": \"PR\",\n",
        "    \"United States Minor Outlying Islands\": \"UM\",\n",
        "    \"U.S. Virgin Islands\": \"VI\",\n",
        "}\n",
        "abbrev_to_us_state = dict(map(reversed, us_state_to_abbrev.items()))\n",
        "nd['state'] = nd['state'].map(abbrev_to_us_state)\n",
        "print (abbrev_to_us_state)\n",
        "print (nd.state)"
      ],
      "metadata": {
        "colab": {
          "base_uri": "https://localhost:8080/"
        },
        "id": "iB8uyllegqhr",
        "outputId": "a29a69e4-a211-4437-c4a0-9b0bd7fb49b5"
      },
      "execution_count": null,
      "outputs": [
        {
          "output_type": "stream",
          "name": "stdout",
          "text": [
            "{'AL': 'Alabama', 'AK': 'Alaska', 'AZ': 'Arizona', 'AR': 'Arkansas', 'CA': 'California', 'CO': 'Colorado', 'CT': 'Connecticut', 'DE': 'Delaware', 'FL': 'Florida', 'GA': 'Georgia', 'HI': 'Hawaii', 'ID': 'Idaho', 'IL': 'Illinois', 'IN': 'Indiana', 'IA': 'Iowa', 'KS': 'Kansas', 'KY': 'Kentucky', 'LA': 'Louisiana', 'ME': 'Maine', 'MD': 'Maryland', 'MA': 'Massachusetts', 'MI': 'Michigan', 'MN': 'Minnesota', 'MS': 'Mississippi', 'MO': 'Missouri', 'MT': 'Montana', 'NE': 'Nebraska', 'NV': 'Nevada', 'NH': 'New Hampshire', 'NJ': 'New Jersey', 'NM': 'New Mexico', 'NY': 'New York', 'NC': 'North Carolina', 'ND': 'North Dakota', 'OH': 'Ohio', 'OK': 'Oklahoma', 'OR': 'Oregon', 'PA': 'Pennsylvania', 'RI': 'Rhode Island', 'SC': 'South Carolina', 'SD': 'South Dakota', 'TN': 'Tennessee', 'TX': 'Texas', 'UT': 'Utah', 'VT': 'Vermont', 'VA': 'Virginia', 'WA': 'Washington', 'WV': 'West Virginia', 'WI': 'Wisconsin', 'WY': 'Wyoming', 'DC': 'District of Columbia', 'AS': 'American Samoa', 'GU': 'Guam', 'MP': 'Northern Mariana Islands', 'PR': 'Puerto Rico', 'UM': 'United States Minor Outlying Islands', 'VI': 'U.S. Virgin Islands'}\n",
            "0       Arkansas\n",
            "1       Arkansas\n",
            "2       Arkansas\n",
            "3       Arkansas\n",
            "4       Arkansas\n",
            "          ...   \n",
            "3026      Kansas\n",
            "3027      Kansas\n",
            "3028      Kansas\n",
            "3029      Kansas\n",
            "3030      Kansas\n",
            "Name: state, Length: 3031, dtype: object\n"
          ]
        }
      ]
    },
    {
      "cell_type": "code",
      "source": [
        "labels = list(nd.state.unique())\n",
        "labels"
      ],
      "metadata": {
        "colab": {
          "base_uri": "https://localhost:8080/"
        },
        "id": "ebDl9cFehRVA",
        "outputId": "67c81ce3-f59f-4209-bc00-fee3bf7c7604"
      },
      "execution_count": null,
      "outputs": [
        {
          "output_type": "execute_result",
          "data": {
            "text/plain": [
              "['Arkansas', 'Oregon', 'Louisiana', 'Washington', 'Montana', 'Wyoming', 'California', 'Colorado', 'Utah', 'Puerto Rico', 'Iowa', 'Mississippi', 'Alabama', 'Florida', 'North Dakota', 'Delaware', 'New York', 'North Carolina', 'Nevada', 'Texas', 'New Jersey', 'Oklahoma', 'Tennessee', 'District of Columbia', 'Georgia', 'Connecticut', 'Arizona', 'Maryland', 'Alaska', 'Idaho', 'South Dakota', 'Kentucky', 'New Mexico', 'Virginia', 'West Virginia', 'Hawaii', 'Michigan', 'Rhode Island', 'Massachusetts', 'Vermont', 'Missouri', 'Nebraska', 'Pennsylvania', 'New Hampshire', 'Illinois', 'Kansas', 'Maine']"
            ]
          },
          "metadata": {},
          "execution_count": 462
        }
      ]
    },
    {
      "cell_type": "code",
      "source": [
        "a = dict(nd.state.value_counts())\n",
        "data = list()\n",
        "for i in labels:\n",
        "    data.append(a[i])"
      ],
      "metadata": {
        "id": "HYu6Y-9-jXuc"
      },
      "execution_count": null,
      "outputs": []
    },
    {
      "cell_type": "markdown",
      "source": [
        "**Piechart of Disasters US(state wise)**"
      ],
      "metadata": {
        "id": "blgUCc-cjpM6"
      }
    },
    {
      "cell_type": "code",
      "source": [
        "sizes = data\n",
        "fig1, ax1 = plt.subplots(figsize=(6, 5))\n",
        "fig1.subplots_adjust(0.3,0,1,1)\n",
        "\n",
        "_, _ = ax1.pie(sizes)\n",
        "\n",
        "ax1.axis('equal')\n",
        "\n",
        "total = sum(sizes)\n",
        "plt.legend(\n",
        "    loc='upper left',\n",
        "    labels=['%s, %1.1f%%' % (\n",
        "        l, (float(s) / total) * 100) for l, s in zip(labels, sizes)],\n",
        "    prop={'size': 11},\n",
        "    bbox_to_anchor=(0.0, 1),\n",
        "    bbox_transform=fig1.transFigure\n",
        ")\n",
        "\n",
        "plt.show()"
      ],
      "metadata": {
        "colab": {
          "base_uri": "https://localhost:8080/",
          "height": 768
        },
        "id": "m9OPFPlsjLbf",
        "outputId": "a4e3aa96-3bf3-4fdb-afad-5ee3841fd373"
      },
      "execution_count": null,
      "outputs": [
        {
          "output_type": "display_data",
          "data": {
            "text/plain": [
              "<Figure size 432x360 with 1 Axes>"
            ],
            "image/png": "[encoded data removed]"
          },
          "metadata": {}
        }
      ]
    },
    {
      "cell_type": "code",
      "source": [
        "from sklearn.preprocessing import LabelEncoder\n",
        "le = LabelEncoder()"
      ],
      "metadata": {
        "id": "QcJo-9Pi5H-x"
      },
      "execution_count": null,
      "outputs": []
    },
    {
      "cell_type": "code",
      "source": [
        "a = [\"fema_declaration_string\",'state','designated_area','hash','incident_type','declaration_type']\n",
        "for i in np.arange(len(a)):\n",
        "  nd[a[i]] = le.fit_transform(nd[a[i]])\n",
        "nd.head()"
      ],
      "metadata": {
        "colab": {
          "base_uri": "https://localhost:8080/",
          "height": 270
        },
        "id": "uUTPDJLQ5Mmb",
        "outputId": "bbcabf6a-8d4b-45ac-a376-be26fd3efd92"
      },
      "execution_count": null,
      "outputs": [
        {
          "output_type": "execute_result",
          "data": {
            "text/plain": [
              "   fema_declaration_string  state  declaration_type  incident_type  \\\n",
              "0                       96      3                 1            118   \n",
              "1                       96      3                 1            118   \n",
              "2                       96      3                 1            118   \n",
              "3                       96      3                 1            118   \n",
              "4                       96      3                 1            118   \n",
              "\n",
              "   ih_program_declared  pa_program_declared  hm_program_declared  fips  \\\n",
              "0                    0                    1                    0  5131   \n",
              "1                    0                    1                    0  5143   \n",
              "2                    0                    1                    0  5079   \n",
              "3                    0                    1                    0  5073   \n",
              "4                    0                    1                    0  5087   \n",
              "\n",
              "   designated_area  declaration_request_number  hash  \n",
              "0              818                       20250  2969  \n",
              "1              950                       20250  2915  \n",
              "2              520                       20250  2737  \n",
              "3              491                       20250   463  \n",
              "4              548                       20250  1456  "
            ],
            "text/html": [
              "\n",
              "  <div id=\"df-6efb51b0-e21d-451a-b36a-91295a3039c4\">\n",
              "    <div class=\"colab-df-container\">\n",
              "      <div>\n",
              "<style scoped>\n",
              "    .dataframe tbody tr th:only-of-type {\n",
              "        vertical-align: middle;\n",
              "    }\n",
              "\n",
              "    .dataframe tbody tr th {\n",
              "        vertical-align: top;\n",
              "    }\n",
              "\n",
              "    .dataframe thead th {\n",
              "        text-align: right;\n",
              "    }\n",
              "</style>\n",
              "<table border=\"1\" class=\"dataframe\">\n",
              "  <thead>\n",
              "    <tr style=\"text-align: right;\">\n",
              "      <th></th>\n",
              "      <th>fema_declaration_string</th>\n",
              "      <th>state</th>\n",
              "      <th>declaration_type</th>\n",
              "      <th>incident_type</th>\n",
              "      <th>ih_program_declared</th>\n",
              "      <th>pa_program_declared</th>\n",
              "      <th>hm_program_declared</th>\n",
              "      <th>fips</th>\n",
              "      <th>designated_area</th>\n",
              "      <th>declaration_request_number</th>\n",
              "      <th>hash</th>\n",
              "    </tr>\n",
              "  </thead>\n",
              "  <tbody>\n",
              "    <tr>\n",
              "      <th>0</th>\n",
              "      <td>96</td>\n",
              "      <td>3</td>\n",
              "      <td>1</td>\n",
              "      <td>118</td>\n",
              "      <td>0</td>\n",
              "      <td>1</td>\n",
              "      <td>0</td>\n",
              "      <td>5131</td>\n",
              "      <td>818</td>\n",
              "      <td>20250</td>\n",
              "      <td>2969</td>\n",
              "    </tr>\n",
              "    <tr>\n",
              "      <th>1</th>\n",
              "      <td>96</td>\n",
              "      <td>3</td>\n",
              "      <td>1</td>\n",
              "      <td>118</td>\n",
              "      <td>0</td>\n",
              "      <td>1</td>\n",
              "      <td>0</td>\n",
              "      <td>5143</td>\n",
              "      <td>950</td>\n",
              "      <td>20250</td>\n",
              "      <td>2915</td>\n",
              "    </tr>\n",
              "    <tr>\n",
              "      <th>2</th>\n",
              "      <td>96</td>\n",
              "      <td>3</td>\n",
              "      <td>1</td>\n",
              "      <td>118</td>\n",
              "      <td>0</td>\n",
              "      <td>1</td>\n",
              "      <td>0</td>\n",
              "      <td>5079</td>\n",
              "      <td>520</td>\n",
              "      <td>20250</td>\n",
              "      <td>2737</td>\n",
              "    </tr>\n",
              "    <tr>\n",
              "      <th>3</th>\n",
              "      <td>96</td>\n",
              "      <td>3</td>\n",
              "      <td>1</td>\n",
              "      <td>118</td>\n",
              "      <td>0</td>\n",
              "      <td>1</td>\n",
              "      <td>0</td>\n",
              "      <td>5073</td>\n",
              "      <td>491</td>\n",
              "      <td>20250</td>\n",
              "      <td>463</td>\n",
              "    </tr>\n",
              "    <tr>\n",
              "      <th>4</th>\n",
              "      <td>96</td>\n",
              "      <td>3</td>\n",
              "      <td>1</td>\n",
              "      <td>118</td>\n",
              "      <td>0</td>\n",
              "      <td>1</td>\n",
              "      <td>0</td>\n",
              "      <td>5087</td>\n",
              "      <td>548</td>\n",
              "      <td>20250</td>\n",
              "      <td>1456</td>\n",
              "    </tr>\n",
              "  </tbody>\n",
              "</table>\n",
              "</div>\n",
              "      <button class=\"colab-df-convert\" onclick=\"convertToInteractive('df-6efb51b0-e21d-451a-b36a-91295a3039c4')\"\n",
              "              title=\"Convert this dataframe to an interactive table.\"\n",
              "              style=\"display:none;\">\n",
              "        \n",
              "  <svg xmlns=\"http://www.w3.org/2000/svg\" height=\"24px\"viewBox=\"0 0 24 24\"\n",
              "       width=\"24px\">\n",
              "    <path d=\"M0 0h24v24H0V0z\" fill=\"none\"/>\n",
              "    <path d=\"M18.56 5.44l.94 2.06.94-2.06 2.06-.94-2.06-.94-.94-2.06-.94 2.06-2.06.94zm-11 1L8.5 8.5l.94-2.06 2.06-.94-2.06-.94L8.5 2.5l-.94 2.06-2.06.94zm10 10l.94 2.06.94-2.06 2.06-.94-2.06-.94-.94-2.06-.94 2.06-2.06.94z\"/><path d=\"M17.41 7.96l-1.37-1.37c-.4-.4-.92-.59-1.43-.59-.52 0-1.04.2-1.43.59L10.3 9.45l-7.72 7.72c-.78.78-.78 2.05 0 2.83L4 21.41c.39.39.9.59 1.41.59.51 0 1.02-.2 1.41-.59l7.78-7.78 2.81-2.81c.8-.78.8-2.07 0-2.86zM5.41 20L4 18.59l7.72-7.72 1.47 1.35L5.41 20z\"/>\n",
              "  </svg>\n",
              "      </button>\n",
              "      \n",
              "  <style>\n",
              "    .colab-df-container {\n",
              "      display:flex;\n",
              "      flex-wrap:wrap;\n",
              "      gap: 12px;\n",
              "    }\n",
              "\n",
              "    .colab-df-convert {\n",
              "      background-color: #E8F0FE;\n",
              "      border: none;\n",
              "      border-radius: 50%;\n",
              "      cursor: pointer;\n",
              "      display: none;\n",
              "      fill: #1967D2;\n",
              "      height: 32px;\n",
              "      padding: 0 0 0 0;\n",
              "      width: 32px;\n",
              "    }\n",
              "\n",
              "    .colab-df-convert:hover {\n",
              "      background-color: #E2EBFA;\n",
              "      box-shadow: 0px 1px 2px rgba(60, 64, 67, 0.3), 0px 1px 3px 1px rgba(60, 64, 67, 0.15);\n",
              "      fill: #174EA6;\n",
              "    }\n",
              "\n",
              "    [theme=dark] .colab-df-convert {\n",
              "      background-color: #3B4455;\n",
              "      fill: #D2E3FC;\n",
              "    }\n",
              "\n",
              "    [theme=dark] .colab-df-convert:hover {\n",
              "      background-color: #434B5C;\n",
              "      box-shadow: 0px 1px 3px 1px rgba(0, 0, 0, 0.15);\n",
              "      filter: drop-shadow(0px 1px 2px rgba(0, 0, 0, 0.3));\n",
              "      fill: #FFFFFF;\n",
              "    }\n",
              "  </style>\n",
              "\n",
              "      <script>\n",
              "        const buttonEl =\n",
              "          document.querySelector('#df-6efb51b0-e21d-451a-b36a-91295a3039c4 button.colab-df-convert');\n",
              "        buttonEl.style.display =\n",
              "          google.colab.kernel.accessAllowed ? 'block' : 'none';\n",
              "\n",
              "        async function convertToInteractive(key) {\n",
              "          const element = document.querySelector('#df-6efb51b0-e21d-451a-b36a-91295a3039c4');\n",
              "          const dataTable =\n",
              "            await google.colab.kernel.invokeFunction('convertToInteractive',\n",
              "                                                     [key], {});\n",
              "          if (!dataTable) return;\n",
              "\n",
              "          const docLinkHtml = 'Like what you see? Visit the ' +\n",
              "            '<a target=\"_blank\" href=https://colab.research.google.com/notebooks/data_table.ipynb>data table notebook</a>'\n",
              "            + ' to learn more about interactive tables.';\n",
              "          element.innerHTML = '';\n",
              "          dataTable['output_type'] = 'display_data';\n",
              "          await google.colab.output.renderOutput(dataTable, element);\n",
              "          const docLink = document.createElement('div');\n",
              "          docLink.innerHTML = docLinkHtml;\n",
              "          element.appendChild(docLink);\n",
              "        }\n",
              "      </script>\n",
              "    </div>\n",
              "  </div>\n",
              "  "
            ]
          },
          "metadata": {},
          "execution_count": 466
        }
      ]
    },
    {
      "cell_type": "code",
      "source": [
        "nd.select_dtypes(['int64']).corr()"
      ],
      "metadata": {
        "colab": {
          "base_uri": "https://localhost:8080/",
          "height": 458
        },
        "id": "xGPTdStgDOOs",
        "outputId": "94ea0628-1fa3-42a7-9cf5-20c6d01c2ba7"
      },
      "execution_count": null,
      "outputs": [
        {
          "output_type": "execute_result",
          "data": {
            "text/plain": [
              "                            fema_declaration_string     state  \\\n",
              "fema_declaration_string                    1.000000 -0.067755   \n",
              "state                                     -0.067755  1.000000   \n",
              "declaration_type                           0.885934 -0.096459   \n",
              "incident_type                             -0.353451  0.161893   \n",
              "ih_program_declared                       -0.348350  0.058657   \n",
              "pa_program_declared                        0.047889  0.027603   \n",
              "hm_program_declared                       -0.638622  0.100681   \n",
              "fips                                      -0.070170  0.992637   \n",
              "designated_area                            0.043174 -0.026319   \n",
              "declaration_request_number                 0.196365  0.251366   \n",
              "hash                                      -0.004139 -0.042458   \n",
              "\n",
              "                            declaration_type  incident_type  \\\n",
              "fema_declaration_string             0.885934      -0.353451   \n",
              "state                              -0.096459       0.161893   \n",
              "declaration_type                    1.000000      -0.437571   \n",
              "incident_type                      -0.437571       1.000000   \n",
              "ih_program_declared                -0.346173       0.055198   \n",
              "pa_program_declared                 0.096825      -0.019690   \n",
              "hm_program_declared                -0.712830       0.063680   \n",
              "fips                               -0.103563       0.156843   \n",
              "designated_area                     0.034753      -0.057441   \n",
              "declaration_request_number         -0.213310       0.176640   \n",
              "hash                               -0.012767       0.014544   \n",
              "\n",
              "                            ih_program_declared  pa_program_declared  \\\n",
              "fema_declaration_string               -0.348350             0.047889   \n",
              "state                                  0.058657             0.027603   \n",
              "declaration_type                      -0.346173             0.096825   \n",
              "incident_type                          0.055198            -0.019690   \n",
              "ih_program_declared                    1.000000            -0.262088   \n",
              "pa_program_declared                   -0.262088             1.000000   \n",
              "hm_program_declared                    0.339239            -0.089615   \n",
              "fips                                   0.074061            -0.033299   \n",
              "designated_area                        0.003355            -0.017718   \n",
              "declaration_request_number             0.021487            -0.051433   \n",
              "hash                                  -0.002102            -0.006886   \n",
              "\n",
              "                            hm_program_declared      fips  designated_area  \\\n",
              "fema_declaration_string               -0.638622 -0.070170         0.043174   \n",
              "state                                  0.100681  0.992637        -0.026319   \n",
              "declaration_type                      -0.712830 -0.103563         0.034753   \n",
              "incident_type                          0.063680  0.156843        -0.057441   \n",
              "ih_program_declared                    0.339239  0.074061         0.003355   \n",
              "pa_program_declared                   -0.089615 -0.033299        -0.017718   \n",
              "hm_program_declared                    1.000000  0.104046        -0.009994   \n",
              "fips                                   0.104046  1.000000        -0.020835   \n",
              "designated_area                       -0.009994 -0.020835         1.000000   \n",
              "declaration_request_number             0.223431  0.257882         0.005067   \n",
              "hash                                  -0.009071 -0.039859         0.002870   \n",
              "\n",
              "                            declaration_request_number      hash  \n",
              "fema_declaration_string                       0.196365 -0.004139  \n",
              "state                                         0.251366 -0.042458  \n",
              "declaration_type                             -0.213310 -0.012767  \n",
              "incident_type                                 0.176640  0.014544  \n",
              "ih_program_declared                           0.021487 -0.002102  \n",
              "pa_program_declared                          -0.051433 -0.006886  \n",
              "hm_program_declared                           0.223431 -0.009071  \n",
              "fips                                          0.257882 -0.039859  \n",
              "designated_area                               0.005067  0.002870  \n",
              "declaration_request_number                    1.000000  0.003933  \n",
              "hash                                          0.003933  1.000000  "
            ],
            "text/html": [
              "\n",
              "  <div id=\"df-592e9306-2b6b-4485-ace7-677ed458e30c\">\n",
              "    <div class=\"colab-df-container\">\n",
              "      <div>\n",
              "<style scoped>\n",
              "    .dataframe tbody tr th:only-of-type {\n",
              "        vertical-align: middle;\n",
              "    }\n",
              "\n",
              "    .dataframe tbody tr th {\n",
              "        vertical-align: top;\n",
              "    }\n",
              "\n",
              "    .dataframe thead th {\n",
              "        text-align: right;\n",
              "    }\n",
              "</style>\n",
              "<table border=\"1\" class=\"dataframe\">\n",
              "  <thead>\n",
              "    <tr style=\"text-align: right;\">\n",
              "      <th></th>\n",
              "      <th>fema_declaration_string</th>\n",
              "      <th>state</th>\n",
              "      <th>declaration_type</th>\n",
              "      <th>incident_type</th>\n",
              "      <th>ih_program_declared</th>\n",
              "      <th>pa_program_declared</th>\n",
              "      <th>hm_program_declared</th>\n",
              "      <th>fips</th>\n",
              "      <th>designated_area</th>\n",
              "      <th>declaration_request_number</th>\n",
              "      <th>hash</th>\n",
              "    </tr>\n",
              "  </thead>\n",
              "  <tbody>\n",
              "    <tr>\n",
              "      <th>fema_declaration_string</th>\n",
              "      <td>1.000000</td>\n",
              "      <td>-0.067755</td>\n",
              "      <td>0.885934</td>\n",
              "      <td>-0.353451</td>\n",
              "      <td>-0.348350</td>\n",
              "      <td>0.047889</td>\n",
              "      <td>-0.638622</td>\n",
              "      <td>-0.070170</td>\n",
              "      <td>0.043174</td>\n",
              "      <td>0.196365</td>\n",
              "      <td>-0.004139</td>\n",
              "    </tr>\n",
              "    <tr>\n",
              "      <th>state</th>\n",
              "      <td>-0.067755</td>\n",
              "      <td>1.000000</td>\n",
              "      <td>-0.096459</td>\n",
              "      <td>0.161893</td>\n",
              "      <td>0.058657</td>\n",
              "      <td>0.027603</td>\n",
              "      <td>0.100681</td>\n",
              "      <td>0.992637</td>\n",
              "      <td>-0.026319</td>\n",
              "      <td>0.251366</td>\n",
              "      <td>-0.042458</td>\n",
              "    </tr>\n",
              "    <tr>\n",
              "      <th>declaration_type</th>\n",
              "      <td>0.885934</td>\n",
              "      <td>-0.096459</td>\n",
              "      <td>1.000000</td>\n",
              "      <td>-0.437571</td>\n",
              "      <td>-0.346173</td>\n",
              "      <td>0.096825</td>\n",
              "      <td>-0.712830</td>\n",
              "      <td>-0.103563</td>\n",
              "      <td>0.034753</td>\n",
              "      <td>-0.213310</td>\n",
              "      <td>-0.012767</td>\n",
              "    </tr>\n",
              "    <tr>\n",
              "      <th>incident_type</th>\n",
              "      <td>-0.353451</td>\n",
              "      <td>0.161893</td>\n",
              "      <td>-0.437571</td>\n",
              "      <td>1.000000</td>\n",
              "      <td>0.055198</td>\n",
              "      <td>-0.019690</td>\n",
              "      <td>0.063680</td>\n",
              "      <td>0.156843</td>\n",
              "      <td>-0.057441</td>\n",
              "      <td>0.176640</td>\n",
              "      <td>0.014544</td>\n",
              "    </tr>\n",
              "    <tr>\n",
              "      <th>ih_program_declared</th>\n",
              "      <td>-0.348350</td>\n",
              "      <td>0.058657</td>\n",
              "      <td>-0.346173</td>\n",
              "      <td>0.055198</td>\n",
              "      <td>1.000000</td>\n",
              "      <td>-0.262088</td>\n",
              "      <td>0.339239</td>\n",
              "      <td>0.074061</td>\n",
              "      <td>0.003355</td>\n",
              "      <td>0.021487</td>\n",
              "      <td>-0.002102</td>\n",
              "    </tr>\n",
              "    <tr>\n",
              "      <th>pa_program_declared</th>\n",
              "      <td>0.047889</td>\n",
              "      <td>0.027603</td>\n",
              "      <td>0.096825</td>\n",
              "      <td>-0.019690</td>\n",
              "      <td>-0.262088</td>\n",
              "      <td>1.000000</td>\n",
              "      <td>-0.089615</td>\n",
              "      <td>-0.033299</td>\n",
              "      <td>-0.017718</td>\n",
              "      <td>-0.051433</td>\n",
              "      <td>-0.006886</td>\n",
              "    </tr>\n",
              "    <tr>\n",
              "      <th>hm_program_declared</th>\n",
              "      <td>-0.638622</td>\n",
              "      <td>0.100681</td>\n",
              "      <td>-0.712830</td>\n",
              "      <td>0.063680</td>\n",
              "      <td>0.339239</td>\n",
              "      <td>-0.089615</td>\n",
              "      <td>1.000000</td>\n",
              "      <td>0.104046</td>\n",
              "      <td>-0.009994</td>\n",
              "      <td>0.223431</td>\n",
              "      <td>-0.009071</td>\n",
              "    </tr>\n",
              "    <tr>\n",
              "      <th>fips</th>\n",
              "      <td>-0.070170</td>\n",
              "      <td>0.992637</td>\n",
              "      <td>-0.103563</td>\n",
              "      <td>0.156843</td>\n",
              "      <td>0.074061</td>\n",
              "      <td>-0.033299</td>\n",
              "      <td>0.104046</td>\n",
              "      <td>1.000000</td>\n",
              "      <td>-0.020835</td>\n",
              "      <td>0.257882</td>\n",
              "      <td>-0.039859</td>\n",
              "    </tr>\n",
              "    <tr>\n",
              "      <th>designated_area</th>\n",
              "      <td>0.043174</td>\n",
              "      <td>-0.026319</td>\n",
              "      <td>0.034753</td>\n",
              "      <td>-0.057441</td>\n",
              "      <td>0.003355</td>\n",
              "      <td>-0.017718</td>\n",
              "      <td>-0.009994</td>\n",
              "      <td>-0.020835</td>\n",
              "      <td>1.000000</td>\n",
              "      <td>0.005067</td>\n",
              "      <td>0.002870</td>\n",
              "    </tr>\n",
              "    <tr>\n",
              "      <th>declaration_request_number</th>\n",
              "      <td>0.196365</td>\n",
              "      <td>0.251366</td>\n",
              "      <td>-0.213310</td>\n",
              "      <td>0.176640</td>\n",
              "      <td>0.021487</td>\n",
              "      <td>-0.051433</td>\n",
              "      <td>0.223431</td>\n",
              "      <td>0.257882</td>\n",
              "      <td>0.005067</td>\n",
              "      <td>1.000000</td>\n",
              "      <td>0.003933</td>\n",
              "    </tr>\n",
              "    <tr>\n",
              "      <th>hash</th>\n",
              "      <td>-0.004139</td>\n",
              "      <td>-0.042458</td>\n",
              "      <td>-0.012767</td>\n",
              "      <td>0.014544</td>\n",
              "      <td>-0.002102</td>\n",
              "      <td>-0.006886</td>\n",
              "      <td>-0.009071</td>\n",
              "      <td>-0.039859</td>\n",
              "      <td>0.002870</td>\n",
              "      <td>0.003933</td>\n",
              "      <td>1.000000</td>\n",
              "    </tr>\n",
              "  </tbody>\n",
              "</table>\n",
              "</div>\n",
              "      <button class=\"colab-df-convert\" onclick=\"convertToInteractive('df-592e9306-2b6b-4485-ace7-677ed458e30c')\"\n",
              "              title=\"Convert this dataframe to an interactive table.\"\n",
              "              style=\"display:none;\">\n",
              "        \n",
              "  <svg xmlns=\"http://www.w3.org/2000/svg\" height=\"24px\"viewBox=\"0 0 24 24\"\n",
              "       width=\"24px\">\n",
              "    <path d=\"M0 0h24v24H0V0z\" fill=\"none\"/>\n",
              "    <path d=\"M18.56 5.44l.94 2.06.94-2.06 2.06-.94-2.06-.94-.94-2.06-.94 2.06-2.06.94zm-11 1L8.5 8.5l.94-2.06 2.06-.94-2.06-.94L8.5 2.5l-.94 2.06-2.06.94zm10 10l.94 2.06.94-2.06 2.06-.94-2.06-.94-.94-2.06-.94 2.06-2.06.94z\"/><path d=\"M17.41 7.96l-1.37-1.37c-.4-.4-.92-.59-1.43-.59-.52 0-1.04.2-1.43.59L10.3 9.45l-7.72 7.72c-.78.78-.78 2.05 0 2.83L4 21.41c.39.39.9.59 1.41.59.51 0 1.02-.2 1.41-.59l7.78-7.78 2.81-2.81c.8-.78.8-2.07 0-2.86zM5.41 20L4 18.59l7.72-7.72 1.47 1.35L5.41 20z\"/>\n",
              "  </svg>\n",
              "      </button>\n",
              "      \n",
              "  <style>\n",
              "    .colab-df-container {\n",
              "      display:flex;\n",
              "      flex-wrap:wrap;\n",
              "      gap: 12px;\n",
              "    }\n",
              "\n",
              "    .colab-df-convert {\n",
              "      background-color: #E8F0FE;\n",
              "      border: none;\n",
              "      border-radius: 50%;\n",
              "      cursor: pointer;\n",
              "      display: none;\n",
              "      fill: #1967D2;\n",
              "      height: 32px;\n",
              "      padding: 0 0 0 0;\n",
              "      width: 32px;\n",
              "    }\n",
              "\n",
              "    .colab-df-convert:hover {\n",
              "      background-color: #E2EBFA;\n",
              "      box-shadow: 0px 1px 2px rgba(60, 64, 67, 0.3), 0px 1px 3px 1px rgba(60, 64, 67, 0.15);\n",
              "      fill: #174EA6;\n",
              "    }\n",
              "\n",
              "    [theme=dark] .colab-df-convert {\n",
              "      background-color: #3B4455;\n",
              "      fill: #D2E3FC;\n",
              "    }\n",
              "\n",
              "    [theme=dark] .colab-df-convert:hover {\n",
              "      background-color: #434B5C;\n",
              "      box-shadow: 0px 1px 3px 1px rgba(0, 0, 0, 0.15);\n",
              "      filter: drop-shadow(0px 1px 2px rgba(0, 0, 0, 0.3));\n",
              "      fill: #FFFFFF;\n",
              "    }\n",
              "  </style>\n",
              "\n",
              "      <script>\n",
              "        const buttonEl =\n",
              "          document.querySelector('#df-592e9306-2b6b-4485-ace7-677ed458e30c button.colab-df-convert');\n",
              "        buttonEl.style.display =\n",
              "          google.colab.kernel.accessAllowed ? 'block' : 'none';\n",
              "\n",
              "        async function convertToInteractive(key) {\n",
              "          const element = document.querySelector('#df-592e9306-2b6b-4485-ace7-677ed458e30c');\n",
              "          const dataTable =\n",
              "            await google.colab.kernel.invokeFunction('convertToInteractive',\n",
              "                                                     [key], {});\n",
              "          if (!dataTable) return;\n",
              "\n",
              "          const docLinkHtml = 'Like what you see? Visit the ' +\n",
              "            '<a target=\"_blank\" href=https://colab.research.google.com/notebooks/data_table.ipynb>data table notebook</a>'\n",
              "            + ' to learn more about interactive tables.';\n",
              "          element.innerHTML = '';\n",
              "          dataTable['output_type'] = 'display_data';\n",
              "          await google.colab.output.renderOutput(dataTable, element);\n",
              "          const docLink = document.createElement('div');\n",
              "          docLink.innerHTML = docLinkHtml;\n",
              "          element.appendChild(docLink);\n",
              "        }\n",
              "      </script>\n",
              "    </div>\n",
              "  </div>\n",
              "  "
            ]
          },
          "metadata": {},
          "execution_count": 467
        }
      ]
    },
    {
      "cell_type": "markdown",
      "source": [
        "Correlation between all the numeric variables"
      ],
      "metadata": {
        "id": "bOo0rHeEGqlM"
      }
    },
    {
      "cell_type": "code",
      "source": [
        "sns.heatmap(nd.select_dtypes(['int64']).corr(),annot=True)\n",
        "plt.show()"
      ],
      "metadata": {
        "colab": {
          "base_uri": "https://localhost:8080/",
          "height": 403
        },
        "id": "bzziJy1UGuJ5",
        "outputId": "499d7434-518c-4682-ff02-e89b2fab03ae"
      },
      "execution_count": null,
      "outputs": [
        {
          "output_type": "display_data",
          "data": {
            "text/plain": [
              "<Figure size 432x288 with 2 Axes>"
            ],
            "image/png": "[encoded data removed]"
          },
          "metadata": {
            "needs_background": "light"
          }
        }
      ]
    },
    {
      "cell_type": "code",
      "source": [
        "summary=nd.groupby('state').ih_program_declared.sum()\n",
        "plt.bar(x=summary.index , height=summary.values)\n",
        "plt.show()"
      ],
      "metadata": {
        "colab": {
          "base_uri": "https://localhost:8080/",
          "height": 265
        },
        "id": "DlVA02GSHUNY",
        "outputId": "e47b16cc-6407-4f3c-9b11-cdd6bb3b513c"
      },
      "execution_count": null,
      "outputs": [
        {
          "output_type": "display_data",
          "data": {
            "text/plain": [
              "<Figure size 432x288 with 1 Axes>"
            ],
            "image/png": "[encoded data removed]"
          },
          "metadata": {
            "needs_background": "light"
          }
        }
      ]
    },
    {
      "cell_type": "code",
      "source": [
        "nd.groupby('ih_program_declared').pa_program_declared.sum().plot(kind='line')\n",
        "plt.show()"
      ],
      "metadata": {
        "colab": {
          "base_uri": "https://localhost:8080/",
          "height": 280
        },
        "id": "zm-leMIsH3Yb",
        "outputId": "54efd620-8116-4120-8847-145721146833"
      },
      "execution_count": null,
      "outputs": [
        {
          "output_type": "display_data",
          "data": {
            "text/plain": [
              "<Figure size 432x288 with 1 Axes>"
            ],
            "image/png": "[encoded data removed]"
          },
          "metadata": {
            "needs_background": "light"
          }
        }
      ]
    },
    {
      "cell_type": "code",
      "source": [
        "fig, ax = plt.subplots(figsize=(20,10)) \n",
        "sns.heatmap(pd.crosstab(nd.state,nd.incident_type))\n",
        "plt.show()"
      ],
      "metadata": {
        "colab": {
          "base_uri": "https://localhost:8080/",
          "height": 616
        },
        "id": "sgJSkLfeH7z6",
        "outputId": "22cd5f99-6803-4b81-b9d1-0e0989578142"
      },
      "execution_count": null,
      "outputs": [
        {
          "output_type": "display_data",
          "data": {
            "text/plain": [
              "<Figure size 1440x720 with 2 Axes>"
            ],
            "image/png": "[encoded data removed]"
          },
          "metadata": {
            "needs_background": "light"
          }
        }
      ]
    },
    {
      "cell_type": "code",
      "source": [
        "sns.heatmap(pd.crosstab(nd.state,nd.designated_area))\n",
        "plt.show()"
      ],
      "metadata": {
        "colab": {
          "base_uri": "https://localhost:8080/",
          "height": 299
        },
        "id": "zCfYy0IwIFJb",
        "outputId": "41a6339f-1230-4ff0-a025-39218de9ffc4"
      },
      "execution_count": null,
      "outputs": [
        {
          "output_type": "display_data",
          "data": {
            "text/plain": [
              "<Figure size 432x288 with 2 Axes>"
            ],
            "image/png": "[encoded data removed]"
          },
          "metadata": {
            "needs_background": "light"
          }
        }
      ]
    },
    {
      "cell_type": "markdown",
      "source": [
        "Spliting Values\n",
        "\n"
      ],
      "metadata": {
        "id": "8LGsulfXSKGE"
      }
    },
    {
      "cell_type": "code",
      "source": [
        "X = nd.drop(['declaration_type'],axis = 1)\n",
        "Y = nd['declaration_type']"
      ],
      "metadata": {
        "id": "C6c_ARZGSEIo"
      },
      "execution_count": null,
      "outputs": []
    },
    {
      "cell_type": "markdown",
      "source": [
        "*   Normalization\n",
        "\n"
      ],
      "metadata": {
        "id": "1PmvRKTHINGT"
      }
    },
    {
      "cell_type": "code",
      "source": [
        "from sklearn.preprocessing import MinMaxScaler\n",
        "from sklearn import preprocessing"
      ],
      "metadata": {
        "id": "jmL95oeZ727p"
      },
      "execution_count": null,
      "outputs": []
    },
    {
      "cell_type": "code",
      "source": [
        "scaler = MinMaxScaler()\n",
        "nd=scaler.fit_transform(nd)"
      ],
      "metadata": {
        "id": "9JNJ9_wtC0iH"
      },
      "execution_count": null,
      "outputs": []
    },
    {
      "cell_type": "code",
      "source": [
        "pd.DataFrame(nd)\n"
      ],
      "metadata": {
        "colab": {
          "base_uri": "https://localhost:8080/",
          "height": 424
        },
        "id": "vE0Ahq7YGPjf",
        "outputId": "2cb923cf-2984-4790-ef99-ebb0d94d6c88"
      },
      "execution_count": null,
      "outputs": [
        {
          "output_type": "execute_result",
          "data": {
            "text/plain": [
              "            0         1    2         3    4    5    6         7         8   \\\n",
              "0     0.421053  0.065217  0.5  0.728395  0.0  1.0  0.0  0.058065  0.804326   \n",
              "1     0.421053  0.065217  0.5  0.728395  0.0  1.0  0.0  0.058233  0.934120   \n",
              "2     0.421053  0.065217  0.5  0.728395  0.0  1.0  0.0  0.057334  0.511308   \n",
              "3     0.421053  0.065217  0.5  0.728395  0.0  1.0  0.0  0.057249  0.482793   \n",
              "4     0.421053  0.065217  0.5  0.728395  0.0  1.0  0.0  0.057446  0.538840   \n",
              "...        ...       ...  ...       ...  ...  ...  ...       ...       ...   \n",
              "3026  0.416667  0.326087  0.0  0.975309  0.0  1.0  1.0  0.269801  0.896755   \n",
              "3027  0.416667  0.326087  0.0  0.975309  0.0  1.0  1.0  0.269351  0.766962   \n",
              "3028  0.416667  0.326087  0.0  0.975309  0.0  1.0  1.0  0.269379  0.771878   \n",
              "3029  0.416667  0.326087  0.0  0.975309  0.0  1.0  1.0  0.269661  0.844641   \n",
              "3030  0.416667  0.326087  0.0  0.975309  0.0  1.0  1.0  0.269857  0.926254   \n",
              "\n",
              "            9         10  \n",
              "0     0.034984  0.979868  \n",
              "1     0.034984  0.962046  \n",
              "2     0.034984  0.903300  \n",
              "3     0.034984  0.152805  \n",
              "4     0.034984  0.480528  \n",
              "...        ...       ...  \n",
              "3026  0.997847  0.380858  \n",
              "3027  0.997847  0.726403  \n",
              "3028  0.997847  0.561056  \n",
              "3029  0.997847  0.861056  \n",
              "3030  0.997847  0.838284  \n",
              "\n",
              "[3031 rows x 11 columns]"
            ],
            "text/html": [
              "\n",
              "  <div id=\"df-88abb686-e39f-451b-ac89-47ca7eae9a0a\">\n",
              "    <div class=\"colab-df-container\">\n",
              "      <div>\n",
              "<style scoped>\n",
              "    .dataframe tbody tr th:only-of-type {\n",
              "        vertical-align: middle;\n",
              "    }\n",
              "\n",
              "    .dataframe tbody tr th {\n",
              "        vertical-align: top;\n",
              "    }\n",
              "\n",
              "    .dataframe thead th {\n",
              "        text-align: right;\n",
              "    }\n",
              "</style>\n",
              "<table border=\"1\" class=\"dataframe\">\n",
              "  <thead>\n",
              "    <tr style=\"text-align: right;\">\n",
              "      <th></th>\n",
              "      <th>0</th>\n",
              "      <th>1</th>\n",
              "      <th>2</th>\n",
              "      <th>3</th>\n",
              "      <th>4</th>\n",
              "      <th>5</th>\n",
              "      <th>6</th>\n",
              "      <th>7</th>\n",
              "      <th>8</th>\n",
              "      <th>9</th>\n",
              "      <th>10</th>\n",
              "    </tr>\n",
              "  </thead>\n",
              "  <tbody>\n",
              "    <tr>\n",
              "      <th>0</th>\n",
              "      <td>0.421053</td>\n",
              "      <td>0.065217</td>\n",
              "      <td>0.5</td>\n",
              "      <td>0.728395</td>\n",
              "      <td>0.0</td>\n",
              "      <td>1.0</td>\n",
              "      <td>0.0</td>\n",
              "      <td>0.058065</td>\n",
              "      <td>0.804326</td>\n",
              "      <td>0.034984</td>\n",
              "      <td>0.979868</td>\n",
              "    </tr>\n",
              "    <tr>\n",
              "      <th>1</th>\n",
              "      <td>0.421053</td>\n",
              "      <td>0.065217</td>\n",
              "      <td>0.5</td>\n",
              "      <td>0.728395</td>\n",
              "      <td>0.0</td>\n",
              "      <td>1.0</td>\n",
              "      <td>0.0</td>\n",
              "      <td>0.058233</td>\n",
              "      <td>0.934120</td>\n",
              "      <td>0.034984</td>\n",
              "      <td>0.962046</td>\n",
              "    </tr>\n",
              "    <tr>\n",
              "      <th>2</th>\n",
              "      <td>0.421053</td>\n",
              "      <td>0.065217</td>\n",
              "      <td>0.5</td>\n",
              "      <td>0.728395</td>\n",
              "      <td>0.0</td>\n",
              "      <td>1.0</td>\n",
              "      <td>0.0</td>\n",
              "      <td>0.057334</td>\n",
              "      <td>0.511308</td>\n",
              "      <td>0.034984</td>\n",
              "      <td>0.903300</td>\n",
              "    </tr>\n",
              "    <tr>\n",
              "      <th>3</th>\n",
              "      <td>0.421053</td>\n",
              "      <td>0.065217</td>\n",
              "      <td>0.5</td>\n",
              "      <td>0.728395</td>\n",
              "      <td>0.0</td>\n",
              "      <td>1.0</td>\n",
              "      <td>0.0</td>\n",
              "      <td>0.057249</td>\n",
              "      <td>0.482793</td>\n",
              "      <td>0.034984</td>\n",
              "      <td>0.152805</td>\n",
              "    </tr>\n",
              "    <tr>\n",
              "      <th>4</th>\n",
              "      <td>0.421053</td>\n",
              "      <td>0.065217</td>\n",
              "      <td>0.5</td>\n",
              "      <td>0.728395</td>\n",
              "      <td>0.0</td>\n",
              "      <td>1.0</td>\n",
              "      <td>0.0</td>\n",
              "      <td>0.057446</td>\n",
              "      <td>0.538840</td>\n",
              "      <td>0.034984</td>\n",
              "      <td>0.480528</td>\n",
              "    </tr>\n",
              "    <tr>\n",
              "      <th>...</th>\n",
              "      <td>...</td>\n",
              "      <td>...</td>\n",
              "      <td>...</td>\n",
              "      <td>...</td>\n",
              "      <td>...</td>\n",
              "      <td>...</td>\n",
              "      <td>...</td>\n",
              "      <td>...</td>\n",
              "      <td>...</td>\n",
              "      <td>...</td>\n",
              "      <td>...</td>\n",
              "    </tr>\n",
              "    <tr>\n",
              "      <th>3026</th>\n",
              "      <td>0.416667</td>\n",
              "      <td>0.326087</td>\n",
              "      <td>0.0</td>\n",
              "      <td>0.975309</td>\n",
              "      <td>0.0</td>\n",
              "      <td>1.0</td>\n",
              "      <td>1.0</td>\n",
              "      <td>0.269801</td>\n",
              "      <td>0.896755</td>\n",
              "      <td>0.997847</td>\n",
              "      <td>0.380858</td>\n",
              "    </tr>\n",
              "    <tr>\n",
              "      <th>3027</th>\n",
              "      <td>0.416667</td>\n",
              "      <td>0.326087</td>\n",
              "      <td>0.0</td>\n",
              "      <td>0.975309</td>\n",
              "      <td>0.0</td>\n",
              "      <td>1.0</td>\n",
              "      <td>1.0</td>\n",
              "      <td>0.269351</td>\n",
              "      <td>0.766962</td>\n",
              "      <td>0.997847</td>\n",
              "      <td>0.726403</td>\n",
              "    </tr>\n",
              "    <tr>\n",
              "      <th>3028</th>\n",
              "      <td>0.416667</td>\n",
              "      <td>0.326087</td>\n",
              "      <td>0.0</td>\n",
              "      <td>0.975309</td>\n",
              "      <td>0.0</td>\n",
              "      <td>1.0</td>\n",
              "      <td>1.0</td>\n",
              "      <td>0.269379</td>\n",
              "      <td>0.771878</td>\n",
              "      <td>0.997847</td>\n",
              "      <td>0.561056</td>\n",
              "    </tr>\n",
              "    <tr>\n",
              "      <th>3029</th>\n",
              "      <td>0.416667</td>\n",
              "      <td>0.326087</td>\n",
              "      <td>0.0</td>\n",
              "      <td>0.975309</td>\n",
              "      <td>0.0</td>\n",
              "      <td>1.0</td>\n",
              "      <td>1.0</td>\n",
              "      <td>0.269661</td>\n",
              "      <td>0.844641</td>\n",
              "      <td>0.997847</td>\n",
              "      <td>0.861056</td>\n",
              "    </tr>\n",
              "    <tr>\n",
              "      <th>3030</th>\n",
              "      <td>0.416667</td>\n",
              "      <td>0.326087</td>\n",
              "      <td>0.0</td>\n",
              "      <td>0.975309</td>\n",
              "      <td>0.0</td>\n",
              "      <td>1.0</td>\n",
              "      <td>1.0</td>\n",
              "      <td>0.269857</td>\n",
              "      <td>0.926254</td>\n",
              "      <td>0.997847</td>\n",
              "      <td>0.838284</td>\n",
              "    </tr>\n",
              "  </tbody>\n",
              "</table>\n",
              "<p>3031 rows × 11 columns</p>\n",
              "</div>\n",
              "      <button class=\"colab-df-convert\" onclick=\"convertToInteractive('df-88abb686-e39f-451b-ac89-47ca7eae9a0a')\"\n",
              "              title=\"Convert this dataframe to an interactive table.\"\n",
              "              style=\"display:none;\">\n",
              "        \n",
              "  <svg xmlns=\"http://www.w3.org/2000/svg\" height=\"24px\"viewBox=\"0 0 24 24\"\n",
              "       width=\"24px\">\n",
              "    <path d=\"M0 0h24v24H0V0z\" fill=\"none\"/>\n",
              "    <path d=\"M18.56 5.44l.94 2.06.94-2.06 2.06-.94-2.06-.94-.94-2.06-.94 2.06-2.06.94zm-11 1L8.5 8.5l.94-2.06 2.06-.94-2.06-.94L8.5 2.5l-.94 2.06-2.06.94zm10 10l.94 2.06.94-2.06 2.06-.94-2.06-.94-.94-2.06-.94 2.06-2.06.94z\"/><path d=\"M17.41 7.96l-1.37-1.37c-.4-.4-.92-.59-1.43-.59-.52 0-1.04.2-1.43.59L10.3 9.45l-7.72 7.72c-.78.78-.78 2.05 0 2.83L4 21.41c.39.39.9.59 1.41.59.51 0 1.02-.2 1.41-.59l7.78-7.78 2.81-2.81c.8-.78.8-2.07 0-2.86zM5.41 20L4 18.59l7.72-7.72 1.47 1.35L5.41 20z\"/>\n",
              "  </svg>\n",
              "      </button>\n",
              "      \n",
              "  <style>\n",
              "    .colab-df-container {\n",
              "      display:flex;\n",
              "      flex-wrap:wrap;\n",
              "      gap: 12px;\n",
              "    }\n",
              "\n",
              "    .colab-df-convert {\n",
              "      background-color: #E8F0FE;\n",
              "      border: none;\n",
              "      border-radius: 50%;\n",
              "      cursor: pointer;\n",
              "      display: none;\n",
              "      fill: #1967D2;\n",
              "      height: 32px;\n",
              "      padding: 0 0 0 0;\n",
              "      width: 32px;\n",
              "    }\n",
              "\n",
              "    .colab-df-convert:hover {\n",
              "      background-color: #E2EBFA;\n",
              "      box-shadow: 0px 1px 2px rgba(60, 64, 67, 0.3), 0px 1px 3px 1px rgba(60, 64, 67, 0.15);\n",
              "      fill: #174EA6;\n",
              "    }\n",
              "\n",
              "    [theme=dark] .colab-df-convert {\n",
              "      background-color: #3B4455;\n",
              "      fill: #D2E3FC;\n",
              "    }\n",
              "\n",
              "    [theme=dark] .colab-df-convert:hover {\n",
              "      background-color: #434B5C;\n",
              "      box-shadow: 0px 1px 3px 1px rgba(0, 0, 0, 0.15);\n",
              "      filter: drop-shadow(0px 1px 2px rgba(0, 0, 0, 0.3));\n",
              "      fill: #FFFFFF;\n",
              "    }\n",
              "  </style>\n",
              "\n",
              "      <script>\n",
              "        const buttonEl =\n",
              "          document.querySelector('#df-88abb686-e39f-451b-ac89-47ca7eae9a0a button.colab-df-convert');\n",
              "        buttonEl.style.display =\n",
              "          google.colab.kernel.accessAllowed ? 'block' : 'none';\n",
              "\n",
              "        async function convertToInteractive(key) {\n",
              "          const element = document.querySelector('#df-88abb686-e39f-451b-ac89-47ca7eae9a0a');\n",
              "          const dataTable =\n",
              "            await google.colab.kernel.invokeFunction('convertToInteractive',\n",
              "                                                     [key], {});\n",
              "          if (!dataTable) return;\n",
              "\n",
              "          const docLinkHtml = 'Like what you see? Visit the ' +\n",
              "            '<a target=\"_blank\" href=https://colab.research.google.com/notebooks/data_table.ipynb>data table notebook</a>'\n",
              "            + ' to learn more about interactive tables.';\n",
              "          element.innerHTML = '';\n",
              "          dataTable['output_type'] = 'display_data';\n",
              "          await google.colab.output.renderOutput(dataTable, element);\n",
              "          const docLink = document.createElement('div');\n",
              "          docLink.innerHTML = docLinkHtml;\n",
              "          element.appendChild(docLink);\n",
              "        }\n",
              "      </script>\n",
              "    </div>\n",
              "  </div>\n",
              "  "
            ]
          },
          "metadata": {},
          "execution_count": 476
        }
      ]
    },
    {
      "cell_type": "code",
      "source": [
        "from sklearn.preprocessing import normalize"
      ],
      "metadata": {
        "id": "CIulSK8_IrXK"
      },
      "execution_count": null,
      "outputs": []
    },
    {
      "cell_type": "code",
      "source": [
        "N = preprocessing.normalize(nd)\n",
        "pd.DataFrame(N)"
      ],
      "metadata": {
        "id": "bFb3XHujJMsN",
        "colab": {
          "base_uri": "https://localhost:8080/",
          "height": 424
        },
        "outputId": "3c5da0b1-7e7e-49c4-cbef-cf8058a76480"
      },
      "execution_count": null,
      "outputs": [
        {
          "output_type": "execute_result",
          "data": {
            "text/plain": [
              "            0         1         2         3    4         5         6   \\\n",
              "0     0.222727  0.034498  0.264488  0.385304  0.0  0.528976  0.000000   \n",
              "1     0.217002  0.033612  0.257690  0.375400  0.0  0.515380  0.000000   \n",
              "2     0.241332  0.037380  0.286581  0.417489  0.0  0.573163  0.000000   \n",
              "3     0.282399  0.043741  0.335349  0.488533  0.0  0.670697  0.000000   \n",
              "4     0.266945  0.041347  0.316997  0.461798  0.0  0.633995  0.000000   \n",
              "...        ...       ...       ...       ...  ...       ...       ...   \n",
              "3026  0.181868  0.142331  0.000000  0.425705  0.0  0.436482  0.436482   \n",
              "3027  0.179051  0.140127  0.000000  0.419112  0.0  0.429723  0.429723   \n",
              "3028  0.182545  0.142861  0.000000  0.427290  0.0  0.438107  0.438107   \n",
              "3029  0.173695  0.135935  0.000000  0.406575  0.0  0.416869  0.416869   \n",
              "3030  0.172118  0.134701  0.000000  0.402884  0.0  0.413084  0.413084   \n",
              "\n",
              "            7         8         9         10  \n",
              "0     0.030715  0.425470  0.018506  0.518327  \n",
              "1     0.030012  0.481427  0.018030  0.495819  \n",
              "2     0.032861  0.293063  0.020051  0.517738  \n",
              "3     0.038397  0.323808  0.023464  0.102486  \n",
              "4     0.036420  0.341621  0.022180  0.304652  \n",
              "...        ...       ...       ...       ...  \n",
              "3026  0.117763  0.391418  0.435542  0.166238  \n",
              "3027  0.115746  0.329581  0.428798  0.312152  \n",
              "3028  0.118017  0.338165  0.437164  0.245803  \n",
              "3029  0.112413  0.352104  0.415971  0.358947  \n",
              "3030  0.111474  0.382620  0.412194  0.346281  \n",
              "\n",
              "[3031 rows x 11 columns]"
            ],
            "text/html": [
              "\n",
              "  <div id=\"df-13e61734-5172-4016-9771-a1f98cbadaa9\">\n",
              "    <div class=\"colab-df-container\">\n",
              "      <div>\n",
              "<style scoped>\n",
              "    .dataframe tbody tr th:only-of-type {\n",
              "        vertical-align: middle;\n",
              "    }\n",
              "\n",
              "    .dataframe tbody tr th {\n",
              "        vertical-align: top;\n",
              "    }\n",
              "\n",
              "    .dataframe thead th {\n",
              "        text-align: right;\n",
              "    }\n",
              "</style>\n",
              "<table border=\"1\" class=\"dataframe\">\n",
              "  <thead>\n",
              "    <tr style=\"text-align: right;\">\n",
              "      <th></th>\n",
              "      <th>0</th>\n",
              "      <th>1</th>\n",
              "      <th>2</th>\n",
              "      <th>3</th>\n",
              "      <th>4</th>\n",
              "      <th>5</th>\n",
              "      <th>6</th>\n",
              "      <th>7</th>\n",
              "      <th>8</th>\n",
              "      <th>9</th>\n",
              "      <th>10</th>\n",
              "    </tr>\n",
              "  </thead>\n",
              "  <tbody>\n",
              "    <tr>\n",
              "      <th>0</th>\n",
              "      <td>0.222727</td>\n",
              "      <td>0.034498</td>\n",
              "      <td>0.264488</td>\n",
              "      <td>0.385304</td>\n",
              "      <td>0.0</td>\n",
              "      <td>0.528976</td>\n",
              "      <td>0.000000</td>\n",
              "      <td>0.030715</td>\n",
              "      <td>0.425470</td>\n",
              "      <td>0.018506</td>\n",
              "      <td>0.518327</td>\n",
              "    </tr>\n",
              "    <tr>\n",
              "      <th>1</th>\n",
              "      <td>0.217002</td>\n",
              "      <td>0.033612</td>\n",
              "      <td>0.257690</td>\n",
              "      <td>0.375400</td>\n",
              "      <td>0.0</td>\n",
              "      <td>0.515380</td>\n",
              "      <td>0.000000</td>\n",
              "      <td>0.030012</td>\n",
              "      <td>0.481427</td>\n",
              "      <td>0.018030</td>\n",
              "      <td>0.495819</td>\n",
              "    </tr>\n",
              "    <tr>\n",
              "      <th>2</th>\n",
              "      <td>0.241332</td>\n",
              "      <td>0.037380</td>\n",
              "      <td>0.286581</td>\n",
              "      <td>0.417489</td>\n",
              "      <td>0.0</td>\n",
              "      <td>0.573163</td>\n",
              "      <td>0.000000</td>\n",
              "      <td>0.032861</td>\n",
              "      <td>0.293063</td>\n",
              "      <td>0.020051</td>\n",
              "      <td>0.517738</td>\n",
              "    </tr>\n",
              "    <tr>\n",
              "      <th>3</th>\n",
              "      <td>0.282399</td>\n",
              "      <td>0.043741</td>\n",
              "      <td>0.335349</td>\n",
              "      <td>0.488533</td>\n",
              "      <td>0.0</td>\n",
              "      <td>0.670697</td>\n",
              "      <td>0.000000</td>\n",
              "      <td>0.038397</td>\n",
              "      <td>0.323808</td>\n",
              "      <td>0.023464</td>\n",
              "      <td>0.102486</td>\n",
              "    </tr>\n",
              "    <tr>\n",
              "      <th>4</th>\n",
              "      <td>0.266945</td>\n",
              "      <td>0.041347</td>\n",
              "      <td>0.316997</td>\n",
              "      <td>0.461798</td>\n",
              "      <td>0.0</td>\n",
              "      <td>0.633995</td>\n",
              "      <td>0.000000</td>\n",
              "      <td>0.036420</td>\n",
              "      <td>0.341621</td>\n",
              "      <td>0.022180</td>\n",
              "      <td>0.304652</td>\n",
              "    </tr>\n",
              "    <tr>\n",
              "      <th>...</th>\n",
              "      <td>...</td>\n",
              "      <td>...</td>\n",
              "      <td>...</td>\n",
              "      <td>...</td>\n",
              "      <td>...</td>\n",
              "      <td>...</td>\n",
              "      <td>...</td>\n",
              "      <td>...</td>\n",
              "      <td>...</td>\n",
              "      <td>...</td>\n",
              "      <td>...</td>\n",
              "    </tr>\n",
              "    <tr>\n",
              "      <th>3026</th>\n",
              "      <td>0.181868</td>\n",
              "      <td>0.142331</td>\n",
              "      <td>0.000000</td>\n",
              "      <td>0.425705</td>\n",
              "      <td>0.0</td>\n",
              "      <td>0.436482</td>\n",
              "      <td>0.436482</td>\n",
              "      <td>0.117763</td>\n",
              "      <td>0.391418</td>\n",
              "      <td>0.435542</td>\n",
              "      <td>0.166238</td>\n",
              "    </tr>\n",
              "    <tr>\n",
              "      <th>3027</th>\n",
              "      <td>0.179051</td>\n",
              "      <td>0.140127</td>\n",
              "      <td>0.000000</td>\n",
              "      <td>0.419112</td>\n",
              "      <td>0.0</td>\n",
              "      <td>0.429723</td>\n",
              "      <td>0.429723</td>\n",
              "      <td>0.115746</td>\n",
              "      <td>0.329581</td>\n",
              "      <td>0.428798</td>\n",
              "      <td>0.312152</td>\n",
              "    </tr>\n",
              "    <tr>\n",
              "      <th>3028</th>\n",
              "      <td>0.182545</td>\n",
              "      <td>0.142861</td>\n",
              "      <td>0.000000</td>\n",
              "      <td>0.427290</td>\n",
              "      <td>0.0</td>\n",
              "      <td>0.438107</td>\n",
              "      <td>0.438107</td>\n",
              "      <td>0.118017</td>\n",
              "      <td>0.338165</td>\n",
              "      <td>0.437164</td>\n",
              "      <td>0.245803</td>\n",
              "    </tr>\n",
              "    <tr>\n",
              "      <th>3029</th>\n",
              "      <td>0.173695</td>\n",
              "      <td>0.135935</td>\n",
              "      <td>0.000000</td>\n",
              "      <td>0.406575</td>\n",
              "      <td>0.0</td>\n",
              "      <td>0.416869</td>\n",
              "      <td>0.416869</td>\n",
              "      <td>0.112413</td>\n",
              "      <td>0.352104</td>\n",
              "      <td>0.415971</td>\n",
              "      <td>0.358947</td>\n",
              "    </tr>\n",
              "    <tr>\n",
              "      <th>3030</th>\n",
              "      <td>0.172118</td>\n",
              "      <td>0.134701</td>\n",
              "      <td>0.000000</td>\n",
              "      <td>0.402884</td>\n",
              "      <td>0.0</td>\n",
              "      <td>0.413084</td>\n",
              "      <td>0.413084</td>\n",
              "      <td>0.111474</td>\n",
              "      <td>0.382620</td>\n",
              "      <td>0.412194</td>\n",
              "      <td>0.346281</td>\n",
              "    </tr>\n",
              "  </tbody>\n",
              "</table>\n",
              "<p>3031 rows × 11 columns</p>\n",
              "</div>\n",
              "      <button class=\"colab-df-convert\" onclick=\"convertToInteractive('df-13e61734-5172-4016-9771-a1f98cbadaa9')\"\n",
              "              title=\"Convert this dataframe to an interactive table.\"\n",
              "              style=\"display:none;\">\n",
              "        \n",
              "  <svg xmlns=\"http://www.w3.org/2000/svg\" height=\"24px\"viewBox=\"0 0 24 24\"\n",
              "       width=\"24px\">\n",
              "    <path d=\"M0 0h24v24H0V0z\" fill=\"none\"/>\n",
              "    <path d=\"M18.56 5.44l.94 2.06.94-2.06 2.06-.94-2.06-.94-.94-2.06-.94 2.06-2.06.94zm-11 1L8.5 8.5l.94-2.06 2.06-.94-2.06-.94L8.5 2.5l-.94 2.06-2.06.94zm10 10l.94 2.06.94-2.06 2.06-.94-2.06-.94-.94-2.06-.94 2.06-2.06.94z\"/><path d=\"M17.41 7.96l-1.37-1.37c-.4-.4-.92-.59-1.43-.59-.52 0-1.04.2-1.43.59L10.3 9.45l-7.72 7.72c-.78.78-.78 2.05 0 2.83L4 21.41c.39.39.9.59 1.41.59.51 0 1.02-.2 1.41-.59l7.78-7.78 2.81-2.81c.8-.78.8-2.07 0-2.86zM5.41 20L4 18.59l7.72-7.72 1.47 1.35L5.41 20z\"/>\n",
              "  </svg>\n",
              "      </button>\n",
              "      \n",
              "  <style>\n",
              "    .colab-df-container {\n",
              "      display:flex;\n",
              "      flex-wrap:wrap;\n",
              "      gap: 12px;\n",
              "    }\n",
              "\n",
              "    .colab-df-convert {\n",
              "      background-color: #E8F0FE;\n",
              "      border: none;\n",
              "      border-radius: 50%;\n",
              "      cursor: pointer;\n",
              "      display: none;\n",
              "      fill: #1967D2;\n",
              "      height: 32px;\n",
              "      padding: 0 0 0 0;\n",
              "      width: 32px;\n",
              "    }\n",
              "\n",
              "    .colab-df-convert:hover {\n",
              "      background-color: #E2EBFA;\n",
              "      box-shadow: 0px 1px 2px rgba(60, 64, 67, 0.3), 0px 1px 3px 1px rgba(60, 64, 67, 0.15);\n",
              "      fill: #174EA6;\n",
              "    }\n",
              "\n",
              "    [theme=dark] .colab-df-convert {\n",
              "      background-color: #3B4455;\n",
              "      fill: #D2E3FC;\n",
              "    }\n",
              "\n",
              "    [theme=dark] .colab-df-convert:hover {\n",
              "      background-color: #434B5C;\n",
              "      box-shadow: 0px 1px 3px 1px rgba(0, 0, 0, 0.15);\n",
              "      filter: drop-shadow(0px 1px 2px rgba(0, 0, 0, 0.3));\n",
              "      fill: #FFFFFF;\n",
              "    }\n",
              "  </style>\n",
              "\n",
              "      <script>\n",
              "        const buttonEl =\n",
              "          document.querySelector('#df-13e61734-5172-4016-9771-a1f98cbadaa9 button.colab-df-convert');\n",
              "        buttonEl.style.display =\n",
              "          google.colab.kernel.accessAllowed ? 'block' : 'none';\n",
              "\n",
              "        async function convertToInteractive(key) {\n",
              "          const element = document.querySelector('#df-13e61734-5172-4016-9771-a1f98cbadaa9');\n",
              "          const dataTable =\n",
              "            await google.colab.kernel.invokeFunction('convertToInteractive',\n",
              "                                                     [key], {});\n",
              "          if (!dataTable) return;\n",
              "\n",
              "          const docLinkHtml = 'Like what you see? Visit the ' +\n",
              "            '<a target=\"_blank\" href=https://colab.research.google.com/notebooks/data_table.ipynb>data table notebook</a>'\n",
              "            + ' to learn more about interactive tables.';\n",
              "          element.innerHTML = '';\n",
              "          dataTable['output_type'] = 'display_data';\n",
              "          await google.colab.output.renderOutput(dataTable, element);\n",
              "          const docLink = document.createElement('div');\n",
              "          docLink.innerHTML = docLinkHtml;\n",
              "          element.appendChild(docLink);\n",
              "        }\n",
              "      </script>\n",
              "    </div>\n",
              "  </div>\n",
              "  "
            ]
          },
          "metadata": {},
          "execution_count": 478
        }
      ]
    },
    {
      "cell_type": "markdown",
      "source": [
        "**Modelling**"
      ],
      "metadata": {
        "id": "w-ig9yDBTHYi"
      }
    },
    {
      "cell_type": "code",
      "source": [
        "from sklearn.model_selection import train_test_split\n",
        "X_train,X_test,Y_train,Y_test = train_test_split(X,Y,random_state=42,test_size = 0.3)"
      ],
      "metadata": {
        "id": "0rKBgLHQji1n"
      },
      "execution_count": null,
      "outputs": []
    },
    {
      "cell_type": "code",
      "source": [
        "#Logistic Regression\n",
        "from sklearn.linear_model import LogisticRegression\n",
        "Logit_model = LogisticRegression()\n",
        "Logit_model.fit(X_train,Y_train)\n",
        "y_pred = Logit_model.predict(X_test)"
      ],
      "metadata": {
        "colab": {
          "base_uri": "https://localhost:8080/"
        },
        "id": "FpT1sTaxnoxf",
        "outputId": "63e5bfc8-15b0-4a8d-cf02-f4a757aaa924"
      },
      "execution_count": null,
      "outputs": [
        {
          "output_type": "stream",
          "name": "stderr",
          "text": [
            "/usr/local/lib/python3.7/dist-packages/sklearn/linear_model/_logistic.py:818: ConvergenceWarning: lbfgs failed to converge (status=1):\n",
            "STOP: TOTAL NO. of ITERATIONS REACHED LIMIT.\n",
            "\n",
            "Increase the number of iterations (max_iter) or scale the data as shown in:\n",
            "    https://scikit-learn.org/stable/modules/preprocessing.html\n",
            "Please also refer to the documentation for alternative solver options:\n",
            "    https://scikit-learn.org/stable/modules/linear_model.html#logistic-regression\n",
            "  extra_warning_msg=_LOGISTIC_SOLVER_CONVERGENCE_MSG,\n"
          ]
        }
      ]
    },
    {
      "cell_type": "code",
      "source": [
        "from sklearn.metrics import confusion_matrix, accuracy_score, precision_score, recall_score, f1_score"
      ],
      "metadata": {
        "id": "33RQgZKCnxJi"
      },
      "execution_count": null,
      "outputs": []
    },
    {
      "cell_type": "code",
      "source": [
        "print('Accuracy is :',accuracy_score(Y_test,y_pred))\n",
        "print('Precision is :',precision_score(Y_test,y_pred,average = 'weighted'))\n",
        "print('Recall is :',recall_score(Y_test,y_pred,average = 'weighted'))\n",
        "print('F1 is :',f1_score(Y_test,y_pred,average = 'weighted'))"
      ],
      "metadata": {
        "colab": {
          "base_uri": "https://localhost:8080/"
        },
        "id": "LF3jDAImn14t",
        "outputId": "b8bd88b6-a9bf-4481-9d63-40bc2d244484"
      },
      "execution_count": null,
      "outputs": [
        {
          "output_type": "stream",
          "name": "stdout",
          "text": [
            "Accuracy is : 0.9648351648351648\n",
            "Precision is : 0.9354966815362855\n",
            "Recall is : 0.9648351648351648\n",
            "F1 is : 0.9495785406825661\n"
          ]
        }
      ]
    },
    {
      "cell_type": "code",
      "source": [
        "from sklearn.svm import SVC\n",
        "svm_linear = SVC(kernel='linear')\n",
        "sl=svm_linear.fit(x_train,y_train)\n",
        "y_pred = svm_linear.predict(x_test)\n",
        "from sklearn.metrics import accuracy_score,precision_score,recall_score,f1_score"
      ],
      "metadata": {
        "id": "4K3ges9j4n7x"
      },
      "execution_count": null,
      "outputs": []
    },
    {
      "cell_type": "code",
      "source": [
        "print('Accuracy is :',accuracy_score(y_test,y_pred))\n",
        "print('Precision is :',precision_score(y_test,y_pred,average='weighted'))\n",
        "print('Recall is :',recall_score(y_test,y_pred,average='weighted'))\n",
        "print('F1 is :',f1_score(y_test,y_pred,average='weighted'))"
      ],
      "metadata": {
        "colab": {
          "base_uri": "https://localhost:8080/"
        },
        "id": "ZQlq5vz1IeSL",
        "outputId": "6a7d3636-7f48-4a09-abd7-9db7a2ccb4b4"
      },
      "execution_count": null,
      "outputs": [
        {
          "output_type": "stream",
          "name": "stdout",
          "text": [
            "Accuracy is : 0.9986807387862797\n",
            "Precision is : 0.9986850642328821\n",
            "Recall is : 0.9986807387862797\n",
            "F1 is : 0.9986810449734983\n"
          ]
        }
      ]
    },
    {
      "cell_type": "code",
      "source": [
        "#Standard Scaling\n",
        "from sklearn.preprocessing import StandardScaler\n",
        "scaler = StandardScaler()\n",
        "X_train = scaler.fit_transform(X_train)\n",
        "X_test = scaler.fit_transform(X_test)"
      ],
      "metadata": {
        "id": "3en4S5kcoGeA"
      },
      "execution_count": null,
      "outputs": []
    },
    {
      "cell_type": "code",
      "source": [
        "Logit_model = LogisticRegression()\n",
        "Logit_model.fit(X_train,Y_train)\n",
        "y_pred = Logit_model.predict(X_test)"
      ],
      "metadata": {
        "id": "jCz8mJycog86"
      },
      "execution_count": null,
      "outputs": []
    },
    {
      "cell_type": "code",
      "source": [
        "print('Accuracy is :',accuracy_score(Y_test,y_pred))\n",
        "print('Precision is :',precision_score(Y_test,y_pred,average='weighted'))\n",
        "print('Recall is :',recall_score(Y_test,y_pred,average='weighted'))\n",
        "print('F1 is :',f1_score(Y_test,y_pred,average='weighted'))"
      ],
      "metadata": {
        "colab": {
          "base_uri": "https://localhost:8080/"
        },
        "id": "9_uJhzqRomAT",
        "outputId": "a3fd4fb5-eec2-4d08-dcbb-c935178c0026"
      },
      "execution_count": null,
      "outputs": [
        {
          "output_type": "stream",
          "name": "stdout",
          "text": [
            "Accuracy is : 0.9989010989010989\n",
            "Precision is : 0.9989040293040293\n",
            "Recall is : 0.9989010989010989\n",
            "F1 is : 0.998901289007583\n"
          ]
        }
      ]
    },
    {
      "cell_type": "code",
      "source": [
        "#Decision Tree\n",
        "from sklearn.tree import DecisionTreeClassifier\n",
        "dt_model = DecisionTreeClassifier()\n",
        "dt_model.fit(X_train,Y_train)\n",
        "y_pred = dt_model.predict(X_test)"
      ],
      "metadata": {
        "id": "m9qcWgImop-W"
      },
      "execution_count": null,
      "outputs": []
    },
    {
      "cell_type": "code",
      "source": [
        "print('Accuracy is :',accuracy_score(Y_test,y_pred))\n",
        "print('Precision is :',precision_score(Y_test,y_pred,average='weighted'))\n",
        "print('Recall is :',recall_score(Y_test,y_pred,average='weighted'))\n",
        "print('F1 is :',f1_score(Y_test,y_pred,average='weighted'))"
      ],
      "metadata": {
        "colab": {
          "base_uri": "https://localhost:8080/"
        },
        "id": "JVR-5yitozw_",
        "outputId": "817c9b34-00a5-41e5-ff44-ced40f280afb"
      },
      "execution_count": null,
      "outputs": [
        {
          "output_type": "stream",
          "name": "stdout",
          "text": [
            "Accuracy is : 0.9571428571428572\n",
            "Precision is : 0.9738789910290541\n",
            "Recall is : 0.9571428571428572\n",
            "F1 is : 0.9622304687698949\n"
          ]
        }
      ]
    },
    {
      "cell_type": "code",
      "source": [
        "#Random Forest\n",
        "from sklearn.ensemble import RandomForestClassifier\n",
        "rf=RandomForestClassifier()\n",
        "rf.fit(X_train,Y_train)\n",
        "y_pred = rf.predict(X_test)"
      ],
      "metadata": {
        "id": "Tb2gARg0pGcx"
      },
      "execution_count": null,
      "outputs": []
    },
    {
      "cell_type": "code",
      "source": [
        "print('Accuracy is :',accuracy_score(Y_test,y_pred))\n",
        "print('Precision is :',precision_score(Y_test,y_pred,average='weighted'))\n",
        "print('Recall is :',recall_score(Y_test,y_pred,average='weighted'))\n",
        "print('F1 is :',f1_score(Y_test,y_pred,average='weighted'))"
      ],
      "metadata": {
        "colab": {
          "base_uri": "https://localhost:8080/"
        },
        "id": "S8XaYM85pSfV",
        "outputId": "a5b50df4-6017-45d8-eced-56b799c207ec"
      },
      "execution_count": null,
      "outputs": [
        {
          "output_type": "stream",
          "name": "stdout",
          "text": [
            "Accuracy is : 1.0\n",
            "Precision is : 1.0\n",
            "Recall is : 1.0\n",
            "F1 is : 1.0\n"
          ]
        }
      ]
    },
    {
      "cell_type": "code",
      "source": [
        "from sklearn.ensemble import GradientBoostingClassifier\n",
        "gb = GradientBoostingClassifier()\n",
        "gb.fit(x_train,y_train)\n",
        "y_pred = gb.predict(x_test)"
      ],
      "metadata": {
        "id": "aH3jPxLfpVOv"
      },
      "execution_count": null,
      "outputs": []
    },
    {
      "cell_type": "code",
      "source": [
        "print('Accuracy is :',accuracy_score(y_test,y_pred))\n",
        "print('Precision is :',precision_score(y_test,y_pred,average='weighted'))\n",
        "print('Recall is :',recall_score(y_test,y_pred,average='weighted'))\n",
        "print('F1 is :',f1_score(y_test,y_pred,average='weighted'))"
      ],
      "metadata": {
        "colab": {
          "base_uri": "https://localhost:8080/"
        },
        "id": "-pEIU8UVqUUh",
        "outputId": "40163165-f7ed-47b4-9034-82721cdd028a"
      },
      "execution_count": null,
      "outputs": [
        {
          "output_type": "stream",
          "name": "stdout",
          "text": [
            "Accuracy is : 1.0\n",
            "Precision is : 1.0\n",
            "Recall is : 1.0\n",
            "F1 is : 1.0\n"
          ]
        }
      ]
    },
    {
      "cell_type": "markdown",
      "source": [
        "**Model fine Tuning**"
      ],
      "metadata": {
        "id": "Iz-ONF-csyp9"
      }
    },
    {
      "cell_type": "code",
      "source": [
        "from sklearn.model_selection import RandomizedSearchCV\n",
        "from random import randint"
      ],
      "metadata": {
        "id": "88TR_sc2s_yX"
      },
      "execution_count": null,
      "outputs": []
    },
    {
      "cell_type": "code",
      "source": [
        "param_dist = {\"max_depth\": [3, None],\n",
        "              \"max_features\": randint(0, 500),\n",
        "              \"min_samples_leaf\": randint(0, 500),\n",
        "              \"criterion\": [\"gini\", \"entropy\"]}"
      ],
      "metadata": {
        "id": "Xy2cs1NrtC7O"
      },
      "execution_count": 502,
      "outputs": []
    },
    {
      "cell_type": "code",
      "source": [
        "dt_tng = RandomizedSearchCV(dt_model, param_dist, cv=5)"
      ],
      "metadata": {
        "id": "AYmxzNzetJGj"
      },
      "execution_count": 503,
      "outputs": []
    },
    {
      "cell_type": "code",
      "source": [
        "dt_tng.fit(x_train,y_train)"
      ],
      "metadata": {
        "colab": {
          "base_uri": "https://localhost:8080/",
          "height": 311
        },
        "id": "vHZtvNeXtpWt",
        "outputId": "599c7bf3-107d-4a9f-9c4b-5f9dcabc0fd6"
      },
      "execution_count": 504,
      "outputs": [
        {
          "output_type": "error",
          "ename": "TypeError",
          "evalue": "ignored",
          "traceback": [
            "\u001b[0;31m---------------------------------------------------------------------------\u001b[0m",
            "\u001b[0;31mTypeError\u001b[0m                                 Traceback (most recent call last)",
            "\u001b[0;32m<ipython-input-504-3822a335d026>\u001b[0m in \u001b[0;36m<module>\u001b[0;34m()\u001b[0m\n\u001b[0;32m----> 1\u001b[0;31m \u001b[0mdt_tng\u001b[0m\u001b[0;34m.\u001b[0m\u001b[0mfit\u001b[0m\u001b[0;34m(\u001b[0m\u001b[0mx_train\u001b[0m\u001b[0;34m,\u001b[0m\u001b[0my_train\u001b[0m\u001b[0;34m)\u001b[0m\u001b[0;34m\u001b[0m\u001b[0;34m\u001b[0m\u001b[0m\n\u001b[0m",
            "\u001b[0;32m/usr/local/lib/python3.7/dist-packages/sklearn/model_selection/_search.py\u001b[0m in \u001b[0;36mfit\u001b[0;34m(self, X, y, groups, **fit_params)\u001b[0m\n\u001b[1;32m    889\u001b[0m                 \u001b[0;32mreturn\u001b[0m \u001b[0mresults\u001b[0m\u001b[0;34m\u001b[0m\u001b[0;34m\u001b[0m\u001b[0m\n\u001b[1;32m    890\u001b[0m \u001b[0;34m\u001b[0m\u001b[0m\n\u001b[0;32m--> 891\u001b[0;31m             \u001b[0mself\u001b[0m\u001b[0;34m.\u001b[0m\u001b[0m_run_search\u001b[0m\u001b[0;34m(\u001b[0m\u001b[0mevaluate_candidates\u001b[0m\u001b[0;34m)\u001b[0m\u001b[0;34m\u001b[0m\u001b[0;34m\u001b[0m\u001b[0m\n\u001b[0m\u001b[1;32m    892\u001b[0m \u001b[0;34m\u001b[0m\u001b[0m\n\u001b[1;32m    893\u001b[0m             \u001b[0;31m# multimetric is determined here because in the case of a callable\u001b[0m\u001b[0;34m\u001b[0m\u001b[0;34m\u001b[0m\u001b[0;34m\u001b[0m\u001b[0m\n",
            "\u001b[0;32m/usr/local/lib/python3.7/dist-packages/sklearn/model_selection/_search.py\u001b[0m in \u001b[0;36m_run_search\u001b[0;34m(self, evaluate_candidates)\u001b[0m\n\u001b[1;32m   1766\u001b[0m         evaluate_candidates(\n\u001b[1;32m   1767\u001b[0m             ParameterSampler(\n\u001b[0;32m-> 1768\u001b[0;31m                 \u001b[0mself\u001b[0m\u001b[0;34m.\u001b[0m\u001b[0mparam_distributions\u001b[0m\u001b[0;34m,\u001b[0m \u001b[0mself\u001b[0m\u001b[0;34m.\u001b[0m\u001b[0mn_iter\u001b[0m\u001b[0;34m,\u001b[0m \u001b[0mrandom_state\u001b[0m\u001b[0;34m=\u001b[0m\u001b[0mself\u001b[0m\u001b[0;34m.\u001b[0m\u001b[0mrandom_state\u001b[0m\u001b[0;34m\u001b[0m\u001b[0;34m\u001b[0m\u001b[0m\n\u001b[0m\u001b[1;32m   1769\u001b[0m             )\n\u001b[1;32m   1770\u001b[0m         )\n",
            "\u001b[0;32m/usr/local/lib/python3.7/dist-packages/sklearn/model_selection/_search.py\u001b[0m in \u001b[0;36m__init__\u001b[0;34m(self, param_distributions, n_iter, random_state)\u001b[0m\n\u001b[1;32m    266\u001b[0m                     raise TypeError(\n\u001b[1;32m    267\u001b[0m                         \u001b[0;34m\"Parameter value is not iterable \"\u001b[0m\u001b[0;34m\u001b[0m\u001b[0;34m\u001b[0m\u001b[0m\n\u001b[0;32m--> 268\u001b[0;31m                         \u001b[0;34m\"or distribution (key={!r}, value={!r})\"\u001b[0m\u001b[0;34m.\u001b[0m\u001b[0mformat\u001b[0m\u001b[0;34m(\u001b[0m\u001b[0mkey\u001b[0m\u001b[0;34m,\u001b[0m \u001b[0mdist\u001b[0m\u001b[0;34m[\u001b[0m\u001b[0mkey\u001b[0m\u001b[0;34m]\u001b[0m\u001b[0;34m)\u001b[0m\u001b[0;34m\u001b[0m\u001b[0;34m\u001b[0m\u001b[0m\n\u001b[0m\u001b[1;32m    269\u001b[0m                     )\n\u001b[1;32m    270\u001b[0m         \u001b[0mself\u001b[0m\u001b[0;34m.\u001b[0m\u001b[0mn_iter\u001b[0m \u001b[0;34m=\u001b[0m \u001b[0mn_iter\u001b[0m\u001b[0;34m\u001b[0m\u001b[0;34m\u001b[0m\u001b[0m\n",
            "\u001b[0;31mTypeError\u001b[0m: Parameter value is not iterable or distribution (key='max_features', value=297)"
          ]
        }
      ]
    },
    {
      "cell_type": "code",
      "source": [
        "print(\"Tuned Decision Tree Parameters: {}\".format(dt_tng.best_params_))\n",
        "print(\"Best score is {}\".format(dt_tng.best_score_))"
      ],
      "metadata": {
        "id": "CBydACBLtv6d",
        "colab": {
          "base_uri": "https://localhost:8080/",
          "height": 183
        },
        "outputId": "acef8b32-e8b4-4e1d-e26c-69a81cc83729"
      },
      "execution_count": 505,
      "outputs": [
        {
          "output_type": "error",
          "ename": "AttributeError",
          "evalue": "ignored",
          "traceback": [
            "\u001b[0;31m---------------------------------------------------------------------------\u001b[0m",
            "\u001b[0;31mAttributeError\u001b[0m                            Traceback (most recent call last)",
            "\u001b[0;32m<ipython-input-505-1de21c034e19>\u001b[0m in \u001b[0;36m<module>\u001b[0;34m()\u001b[0m\n\u001b[0;32m----> 1\u001b[0;31m \u001b[0mprint\u001b[0m\u001b[0;34m(\u001b[0m\u001b[0;34m\"Tuned Decision Tree Parameters: {}\"\u001b[0m\u001b[0;34m.\u001b[0m\u001b[0mformat\u001b[0m\u001b[0;34m(\u001b[0m\u001b[0mdt_tng\u001b[0m\u001b[0;34m.\u001b[0m\u001b[0mbest_params_\u001b[0m\u001b[0;34m)\u001b[0m\u001b[0;34m)\u001b[0m\u001b[0;34m\u001b[0m\u001b[0;34m\u001b[0m\u001b[0m\n\u001b[0m\u001b[1;32m      2\u001b[0m \u001b[0mprint\u001b[0m\u001b[0;34m(\u001b[0m\u001b[0;34m\"Best score is {}\"\u001b[0m\u001b[0;34m.\u001b[0m\u001b[0mformat\u001b[0m\u001b[0;34m(\u001b[0m\u001b[0mdt_tng\u001b[0m\u001b[0;34m.\u001b[0m\u001b[0mbest_score_\u001b[0m\u001b[0;34m)\u001b[0m\u001b[0;34m)\u001b[0m\u001b[0;34m\u001b[0m\u001b[0;34m\u001b[0m\u001b[0m\n",
            "\u001b[0;31mAttributeError\u001b[0m: 'RandomizedSearchCV' object has no attribute 'best_params_'"
          ]
        }
      ]
    }
  ]
}